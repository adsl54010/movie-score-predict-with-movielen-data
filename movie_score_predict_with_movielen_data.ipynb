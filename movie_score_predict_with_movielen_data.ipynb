{
  "nbformat": 4,
  "nbformat_minor": 0,
  "metadata": {
    "colab": {
      "name": "movie score predict with movielen data",
      "provenance": [],
      "toc_visible": true
    },
    "kernelspec": {
      "name": "python3",
      "display_name": "Python 3"
    }
  },
  "cells": [
    {
      "cell_type": "markdown",
      "metadata": {
        "id": "W2X5rTslOzxs"
      },
      "source": [
        "#MovieLens 2019-12 data to predict movies score\r\n",
        "***\r\n",
        "author: Joe Lin (林邑泉)\r\n",
        "\r\n",
        "description: using 201912 data from <a href=\"https://grouplens.org/datasets/movielens/\">https://grouplens.org/datasets/movielens/</a> predict movies score\r\n",
        "***\r\n"
      ]
    },
    {
      "cell_type": "markdown",
      "metadata": {
        "id": "Unzy-yDxSdA7"
      },
      "source": [
        "##Google Colab Preparation "
      ]
    },
    {
      "cell_type": "code",
      "metadata": {
        "colab": {
          "base_uri": "https://localhost:8080/"
        },
        "id": "ULb3wbqHOcRZ",
        "outputId": "a063153b-32bf-40f4-efaa-1c9fc8da3e1a"
      },
      "source": [
        "from google.colab import drive\r\n",
        "drive.mount('/content/drive')\r\n",
        "data_folder = '/content/drive/My Drive/Colab Notebooks/201912Movielen/'"
      ],
      "execution_count": 118,
      "outputs": [
        {
          "output_type": "stream",
          "text": [
            "Drive already mounted at /content/drive; to attempt to forcibly remount, call drive.mount(\"/content/drive\", force_remount=True).\n"
          ],
          "name": "stdout"
        }
      ]
    },
    {
      "cell_type": "markdown",
      "metadata": {
        "id": "YG0gTX46SnRg"
      },
      "source": [
        "##Preprocessing"
      ]
    },
    {
      "cell_type": "markdown",
      "metadata": {
        "id": "gEoRespQSsU0"
      },
      "source": [
        "###Import Library and default setting"
      ]
    },
    {
      "cell_type": "code",
      "metadata": {
        "id": "A_OD0aZ1Oykb"
      },
      "source": [
        "import pandas as pd\r\n",
        "import numpy as np\r\n",
        "import matplotlib.pyplot as plt\r\n",
        "from datetime import datetime\r\n",
        "import time\r\n",
        "import warnings\r\n",
        "\r\n",
        "warnings.filterwarnings('ignore')"
      ],
      "execution_count": 119,
      "outputs": []
    },
    {
      "cell_type": "markdown",
      "metadata": {
        "id": "hn6Rlw6TSySD"
      },
      "source": [
        "###Read data and data analysize"
      ]
    },
    {
      "cell_type": "code",
      "metadata": {
        "colab": {
          "base_uri": "https://localhost:8080/",
          "height": 505
        },
        "id": "eMXlfG2wS1ma",
        "outputId": "cd0fd809-d8cc-4056-df88-daeb161583b8"
      },
      "source": [
        "#read csv data as dataframe in pandas\r\n",
        "rating_df = pd.read_csv(data_folder+'ratings.csv', encoding='utf-8')\r\n",
        "\r\n",
        "#print number of listing.\r\n",
        "print(f\"The dataset contains {len(rating_df)} data\")\r\n",
        "pd.set_option('display.max_columns', None)\r\n",
        "pd.set_option('display.max_rows', 100)\r\n",
        "\r\n",
        "#print listing feature, type and how many non-null data \r\n",
        "print(rating_df.info())\r\n",
        "print(rating_df.describe())\r\n",
        "#print the data from 0 to 2\r\n",
        "rating_df.head(3)"
      ],
      "execution_count": 120,
      "outputs": [
        {
          "output_type": "stream",
          "text": [
            "The dataset contains 25000095 data\n",
            "<class 'pandas.core.frame.DataFrame'>\n",
            "RangeIndex: 25000095 entries, 0 to 25000094\n",
            "Data columns (total 4 columns):\n",
            " #   Column     Dtype  \n",
            "---  ------     -----  \n",
            " 0   userId     int64  \n",
            " 1   movieId    int64  \n",
            " 2   rating     float64\n",
            " 3   timestamp  int64  \n",
            "dtypes: float64(1), int64(3)\n",
            "memory usage: 762.9 MB\n",
            "None\n",
            "             userId       movieId        rating     timestamp\n",
            "count  2.500010e+07  2.500010e+07  2.500010e+07  2.500010e+07\n",
            "mean   8.118928e+04  2.138798e+04  3.533854e+00  1.215601e+09\n",
            "std    4.679172e+04  3.919886e+04  1.060744e+00  2.268758e+08\n",
            "min    1.000000e+00  1.000000e+00  5.000000e-01  7.896520e+08\n",
            "25%    4.051000e+04  1.196000e+03  3.000000e+00  1.011747e+09\n",
            "50%    8.091400e+04  2.947000e+03  3.500000e+00  1.198868e+09\n",
            "75%    1.215570e+05  8.623000e+03  4.000000e+00  1.447205e+09\n",
            "max    1.625410e+05  2.091710e+05  5.000000e+00  1.574328e+09\n"
          ],
          "name": "stdout"
        },
        {
          "output_type": "execute_result",
          "data": {
            "text/html": [
              "<div>\n",
              "<style scoped>\n",
              "    .dataframe tbody tr th:only-of-type {\n",
              "        vertical-align: middle;\n",
              "    }\n",
              "\n",
              "    .dataframe tbody tr th {\n",
              "        vertical-align: top;\n",
              "    }\n",
              "\n",
              "    .dataframe thead th {\n",
              "        text-align: right;\n",
              "    }\n",
              "</style>\n",
              "<table border=\"1\" class=\"dataframe\">\n",
              "  <thead>\n",
              "    <tr style=\"text-align: right;\">\n",
              "      <th></th>\n",
              "      <th>userId</th>\n",
              "      <th>movieId</th>\n",
              "      <th>rating</th>\n",
              "      <th>timestamp</th>\n",
              "    </tr>\n",
              "  </thead>\n",
              "  <tbody>\n",
              "    <tr>\n",
              "      <th>0</th>\n",
              "      <td>1</td>\n",
              "      <td>296</td>\n",
              "      <td>5.0</td>\n",
              "      <td>1147880044</td>\n",
              "    </tr>\n",
              "    <tr>\n",
              "      <th>1</th>\n",
              "      <td>1</td>\n",
              "      <td>306</td>\n",
              "      <td>3.5</td>\n",
              "      <td>1147868817</td>\n",
              "    </tr>\n",
              "    <tr>\n",
              "      <th>2</th>\n",
              "      <td>1</td>\n",
              "      <td>307</td>\n",
              "      <td>5.0</td>\n",
              "      <td>1147868828</td>\n",
              "    </tr>\n",
              "  </tbody>\n",
              "</table>\n",
              "</div>"
            ],
            "text/plain": [
              "   userId  movieId  rating   timestamp\n",
              "0       1      296     5.0  1147880044\n",
              "1       1      306     3.5  1147868817\n",
              "2       1      307     5.0  1147868828"
            ]
          },
          "metadata": {
            "tags": []
          },
          "execution_count": 120
        }
      ]
    },
    {
      "cell_type": "markdown",
      "metadata": {
        "id": "P_TBQ3YiYEAF"
      },
      "source": [
        "##Data preparing"
      ]
    },
    {
      "cell_type": "markdown",
      "metadata": {
        "id": "xcPxQ0i4eWz8"
      },
      "source": [
        "###Reduce data and keep the recently data  "
      ]
    },
    {
      "cell_type": "code",
      "metadata": {
        "colab": {
          "base_uri": "https://localhost:8080/"
        },
        "id": "oIsmmqf2eWMl",
        "outputId": "036743e0-65f3-4138-b0b2-b9fb892c35c4"
      },
      "source": [
        "rating_df = rating_df[rating_df.timestamp > 1530205000]\r\n",
        "rating_df.info()"
      ],
      "execution_count": 121,
      "outputs": [
        {
          "output_type": "stream",
          "text": [
            "<class 'pandas.core.frame.DataFrame'>\n",
            "Int64Index: 1906988 entries, 299 to 24999522\n",
            "Data columns (total 4 columns):\n",
            " #   Column     Dtype  \n",
            "---  ------     -----  \n",
            " 0   userId     int64  \n",
            " 1   movieId    int64  \n",
            " 2   rating     float64\n",
            " 3   timestamp  int64  \n",
            "dtypes: float64(1), int64(3)\n",
            "memory usage: 72.7 MB\n"
          ],
          "name": "stdout"
        }
      ]
    },
    {
      "cell_type": "markdown",
      "metadata": {
        "id": "Y7yhSffNbUme"
      },
      "source": [
        "###Separate feature and answer"
      ]
    },
    {
      "cell_type": "code",
      "metadata": {
        "id": "nPkE9NvebbLD"
      },
      "source": [
        "from sklearn.preprocessing import StandardScaler\r\n",
        "\r\n",
        "# Separate X(feature) and y(answer)\r\n",
        "X = rating_df.drop(['rating','timestamp'], axis=1)\r\n",
        "Y = rating_df.rating\r\n",
        "\r\n"
      ],
      "execution_count": 136,
      "outputs": []
    },
    {
      "cell_type": "code",
      "metadata": {
        "colab": {
          "base_uri": "https://localhost:8080/"
        },
        "id": "qV7zxwjkc8xR",
        "outputId": "c5f542ef-235d-4eee-b678-8619f3e67b5f"
      },
      "source": [
        "X.info()"
      ],
      "execution_count": 137,
      "outputs": [
        {
          "output_type": "stream",
          "text": [
            "<class 'pandas.core.frame.DataFrame'>\n",
            "Int64Index: 1906988 entries, 299 to 24999522\n",
            "Data columns (total 2 columns):\n",
            " #   Column   Dtype\n",
            "---  ------   -----\n",
            " 0   userId   int64\n",
            " 1   movieId  int64\n",
            "dtypes: int64(2)\n",
            "memory usage: 43.6 MB\n"
          ],
          "name": "stdout"
        }
      ]
    },
    {
      "cell_type": "markdown",
      "metadata": {
        "id": "iEQImOMCbEMU"
      },
      "source": [
        "###Traing and testing data generate"
      ]
    },
    {
      "cell_type": "code",
      "metadata": {
        "id": "k7t0CbO6YEi9"
      },
      "source": [
        "from sklearn.model_selection import train_test_split\r\n",
        "\r\n",
        "traing_data = {'x':[],'y':[]}\r\n",
        "testing_data = {'x':[],'y':[]}\r\n",
        "\r\n",
        "#because of limitation memory, only prepare one dataset\r\n",
        "data_set_len = 1\r\n",
        "for index in range(data_set_len):\r\n",
        "  X_train, X_test, Y_train, Y_test = train_test_split(X, Y, test_size=0.2, random_state=index)\r\n",
        "  traing_data['x'].append(X_train)\r\n",
        "  traing_data['y'].append(Y_train)\r\n",
        "  testing_data['x'].append(X_test)\r\n",
        "  testing_data['y'].append(Y_test)\r\n",
        "\r\n",
        "del X_train,X_test,Y_train,Y_test"
      ],
      "execution_count": 138,
      "outputs": []
    },
    {
      "cell_type": "markdown",
      "metadata": {
        "id": "nZJ1CvTgdLWd"
      },
      "source": [
        "##Modeling"
      ]
    },
    {
      "cell_type": "markdown",
      "metadata": {
        "id": "MjrA6sZQnzxd"
      },
      "source": [
        "###Presetting"
      ]
    },
    {
      "cell_type": "code",
      "metadata": {
        "id": "KmPRBw7Wn2dv"
      },
      "source": [
        "def Ave(lst): \r\n",
        "  return sum(lst) / len(lst) \r\n",
        "\r\n",
        "Total_result = {}"
      ],
      "execution_count": 139,
      "outputs": []
    },
    {
      "cell_type": "markdown",
      "metadata": {
        "id": "Ezi2jhbkde4G"
      },
      "source": [
        "###Model 1: Non-negative Matrix Factorization\r\n"
      ]
    },
    {
      "cell_type": "code",
      "metadata": {
        "colab": {
          "base_uri": "https://localhost:8080/"
        },
        "id": "7LmJYXmkfdIr",
        "outputId": "b0dd2254-8f66-4415-cec0-806a4db809f6"
      },
      "source": [
        "import random\r\n",
        "import scipy.sparse as sps\r\n",
        "from sklearn.decomposition import NMF\r\n",
        "from sklearn.metrics import mean_squared_error, r2_score\r\n",
        "\r\n",
        "def dict_creater(input_list):\r\n",
        "  output_dict = {}\r\n",
        "  for i in range(len(input_list)):\r\n",
        "    output_dict[input_list[i]] = i\r\n",
        "  return output_dict\r\n",
        "\r\n",
        "def rating_predict(userId,movieId,W,HT):\r\n",
        "  prediction = np.dot(W[userId_to_row_dict[userId]], HT[movieId_to_col_dict[movieId]].T)\r\n",
        "  return prediction\r\n",
        "\r\n",
        "userId_set = list(set(rating_df['userId']))\r\n",
        "movieId_set = list(set(rating_df['movieId']))\r\n",
        "user_num = len(userId_set)\r\n",
        "movie_num = len(movieId_set)\r\n",
        "\r\n",
        "random.shuffle(userId_set)\r\n",
        "random.shuffle(movieId_set)\r\n",
        "\r\n",
        "userId_to_row_dict = dict_creater(userId_set)\r\n",
        "movieId_to_col_dict = dict_creater(movieId_set)    \r\n",
        "\r\n",
        "algorithm = 'Non-negative Matrix Factorization'\r\n",
        "print(algorithm)\r\n",
        "result = {'training':{'MSE':[],'r2':[],'time':[]},'testing':{'MSE':[],'r2':[],'time':[]}}\r\n",
        "for index in range(data_set_len):\r\n",
        "  matrix = sps.lil_matrix((user_num,movie_num), dtype = np.float16)  \r\n",
        "  start = time.time()\r\n",
        "  x = traing_data['x'][index]\r\n",
        "  y = traing_data['y'][index]\r\n",
        "  for data_index, row in x.iterrows():\r\n",
        "    matrix[userId_to_row_dict[row['userId']], movieId_to_col_dict[row['movieId']]] = y.loc[data_index]\r\n",
        "\r\n",
        "\r\n",
        "  n_components = 100\r\n",
        "  model = NMF(n_components = n_components, init= 'random', max_iter = 100)\r\n",
        "  W = model.fit_transform(matrix)\r\n",
        "  H = model.components_\r\n",
        "  HT = H.T\r\n",
        "  del model,matrix\r\n",
        "\r\n",
        "\r\n",
        "  training_pred=[]\r\n",
        "  for data_index, row in x.iterrows():\r\n",
        "    training_pred.append(rating_predict(row['userId'], row['movieId'],W,HT))\r\n",
        "  result['training']['MSE'].append(round(mean_squared_error(y, training_pred),4))\r\n",
        "  result['training']['r2'].append(round(r2_score(y, training_pred),4))\r\n",
        "  result['training']['time'].append(round((time.time() - start),1))\r\n",
        "\r\n",
        "  \r\n",
        "  #testing  \r\n",
        "  start = time.time()\r\n",
        "  x = testing_data['x'][index]\r\n",
        "  y = testing_data['y'][index]\r\n",
        "  testing_pred=[]\r\n",
        "  for data_index, row in x.iterrows():\r\n",
        "    testing_pred.append(rating_predict(row['userId'], row['movieId'],W,HT))\r\n",
        "  result['testing']['MSE'].append(round(mean_squared_error(y, testing_pred),4))\r\n",
        "  result['testing']['r2'].append(round(r2_score(y, testing_pred),4))\r\n",
        "  result['testing']['time'].append(round((time.time() - start),1))\r\n",
        "\r\n",
        "  temp_x = x[:5]\r\n",
        "  temp_y = y[:5]\r\n",
        "  for data_index, row in temp_x.iterrows():\r\n",
        "    print(index,data_index,rating_predict(row['userId'], row['movieId'],W,HT),temp_y.loc[data_index])\r\n",
        "\r\n",
        "  del temp_x,temp_y\r\n",
        "  \r\n",
        "\r\n",
        "Total_result.update({algorithm:{}})\r\n",
        "for data in result:\r\n",
        "  Total_result[algorithm].update({data:{}})\r\n",
        "  print(data,\":\")\r\n",
        "  for measure in result[data]:\r\n",
        "    avg = Ave(result[data][measure])\r\n",
        "    Total_result[algorithm][data].update({measure:avg})\r\n",
        "    print(measure,avg)\r\n",
        "\r\n",
        "\r\n",
        "del userId_to_row_dict,movieId_to_col_dict,W,H,HT"
      ],
      "execution_count": 140,
      "outputs": [
        {
          "output_type": "stream",
          "text": [
            "Non-negative Matrix Factorization\n",
            "0 24230981 0.5090080328156543 4.0\n",
            "0 23719477 0.10021613562715084 4.0\n",
            "0 2183622 0.02114090621471658 3.5\n",
            "0 4989927 0.24673674749431232 4.0\n",
            "0 15894606 0.8427823833221988 5.0\n",
            "training :\n",
            "MSE 6.9024\n",
            "r2 -5.1122\n",
            "time 537.5\n",
            "testing :\n",
            "MSE 9.1619\n",
            "r2 -7.0937\n",
            "time 44.8\n"
          ],
          "name": "stdout"
        }
      ]
    },
    {
      "cell_type": "markdown",
      "metadata": {
        "id": "Md6pQ5UZ-Ugm"
      },
      "source": [
        "###Label data for Neural Network"
      ]
    },
    {
      "cell_type": "code",
      "metadata": {
        "id": "FcgbsRpN-dHE"
      },
      "source": [
        "from sklearn.preprocessing import LabelEncoder\r\n",
        "\r\n",
        "for index in range(data_set_len):\r\n",
        "  final_df = pd.concat([traing_data['x'][index], testing_data['x'][index]]) \r\n",
        "  userId_dummy_created = LabelEncoder().fit_transform(final_df['userId'])\r\n",
        "  movieId_dummy_created = LabelEncoder().fit_transform(final_df['movieId'])\r\n",
        "  X_train_user, X_test_user = train_test_split(userId_dummy_created, test_size=0.2,shuffle=False)\r\n",
        "  X_train_movie, X_test_movie = train_test_split(movieId_dummy_created, test_size=0.2,shuffle=False)\r\n",
        "\r\n",
        "  traing_data['x'][index] = [X_train_user,X_train_movie]\r\n",
        "  testing_data['x'][index] = [X_test_user,X_test_movie]\r\n",
        "\r\n",
        "\r\n",
        "del X_train_user,X_test_user,X_train_movie,X_test_movie,final_df,userId_dummy_created,movieId_dummy_created"
      ],
      "execution_count": 141,
      "outputs": []
    },
    {
      "cell_type": "markdown",
      "metadata": {
        "id": "yL9doILi_Fvo"
      },
      "source": [
        "###Model 2: Matrix Factorization base on Neural Network"
      ]
    },
    {
      "cell_type": "code",
      "metadata": {
        "id": "IMhvSosZMi8k",
        "colab": {
          "base_uri": "https://localhost:8080/",
          "height": 921
        },
        "outputId": "43f46e9f-025b-446f-dbb2-a6ab7c495a83"
      },
      "source": [
        "from keras.models import Model\r\n",
        "from keras.layers import Input, Dense, Embedding, concatenate, Flatten, Activation, Add, Dropout, Multiply\r\n",
        "from keras.optimizers import Adam\r\n",
        "from IPython.display import SVG\r\n",
        "from keras.utils.vis_utils import model_to_dot\r\n",
        "\r\n",
        "#network setting\r\n",
        "\r\n",
        "# user input\r\n",
        "user_input = Input(1,name='user')\r\n",
        "user_hidden = Embedding(input_dim=user_num, output_dim=n_components,name='user_embedding')(user_input)\r\n",
        "user_hidden = Flatten()(user_hidden)\r\n",
        "\r\n",
        "# movie input\r\n",
        "movie_input = Input(1,name='movie')\r\n",
        "movie_hidden = Embedding(input_dim=movie_num, output_dim=n_components,name='movie_embedding')(movie_input)\r\n",
        "movie_hidden = Flatten()(movie_hidden)\r\n",
        "\r\n",
        "# element-wise multiplication\r\n",
        "hidden = Multiply()([user_hidden, movie_hidden])\r\n",
        "#hidden = user_hidden*movie_hidden\r\n",
        "\r\n",
        "output = Dense(1, activation='linear')(hidden)\r\n",
        "\r\n",
        "model = Model(inputs=[user_input, movie_input], outputs=output)\r\n",
        "model.compile(loss='mean_squared_error', optimizer=Adam(lr=0.005),metrics=['mean_squared_error'])\r\n",
        "\r\n",
        "\r\n",
        "print(model.summary())\r\n",
        "\r\n",
        "SVG(model_to_dot(model, show_layer_names=False, show_shapes=True, dpi=65).create(prog='dot', format='svg'))"
      ],
      "execution_count": 142,
      "outputs": [
        {
          "output_type": "stream",
          "text": [
            "Model: \"functional_43\"\n",
            "__________________________________________________________________________________________________\n",
            "Layer (type)                    Output Shape         Param #     Connected to                     \n",
            "==================================================================================================\n",
            "user (InputLayer)               [(None, 1)]          0                                            \n",
            "__________________________________________________________________________________________________\n",
            "movie (InputLayer)              [(None, 1)]          0                                            \n",
            "__________________________________________________________________________________________________\n",
            "user_embedding (Embedding)      (None, 1, 100)       1457700     user[0][0]                       \n",
            "__________________________________________________________________________________________________\n",
            "movie_embedding (Embedding)     (None, 1, 100)       4698800     movie[0][0]                      \n",
            "__________________________________________________________________________________________________\n",
            "flatten_42 (Flatten)            (None, 100)          0           user_embedding[0][0]             \n",
            "__________________________________________________________________________________________________\n",
            "flatten_43 (Flatten)            (None, 100)          0           movie_embedding[0][0]            \n",
            "__________________________________________________________________________________________________\n",
            "multiply_14 (Multiply)          (None, 100)          0           flatten_42[0][0]                 \n",
            "                                                                 flatten_43[0][0]                 \n",
            "__________________________________________________________________________________________________\n",
            "dense_47 (Dense)                (None, 1)            101         multiply_14[0][0]                \n",
            "==================================================================================================\n",
            "Total params: 6,156,601\n",
            "Trainable params: 6,156,601\n",
            "Non-trainable params: 0\n",
            "__________________________________________________________________________________________________\n",
            "None\n"
          ],
          "name": "stdout"
        },
        {
          "output_type": "execute_result",
          "data": {
            "text/plain": [
              "<IPython.core.display.SVG object>"
            ],
            "image/svg+xml": "<svg height=\"349pt\" viewBox=\"0.00 0.00 464.00 387.00\" width=\"419pt\" xmlns=\"http://www.w3.org/2000/svg\" xmlns:xlink=\"http://www.w3.org/1999/xlink\">\n<g class=\"graph\" id=\"graph0\" transform=\"scale(.9028 .9028) rotate(0) translate(4 383)\">\n<title>G</title>\n<polygon fill=\"#ffffff\" points=\"-4,4 -4,-383 460,-383 460,4 -4,4\" stroke=\"transparent\"/>\n<!-- 140073737070072 -->\n<g class=\"node\" id=\"node1\">\n<title>140073737070072</title>\n<polygon fill=\"none\" points=\"12.5,-332.5 12.5,-378.5 206.5,-378.5 206.5,-332.5 12.5,-332.5\" stroke=\"#000000\"/>\n<text fill=\"#000000\" font-family=\"Times,serif\" font-size=\"14.00\" text-anchor=\"middle\" x=\"52.5\" y=\"-351.8\">InputLayer</text>\n<polyline fill=\"none\" points=\"92.5,-332.5 92.5,-378.5 \" stroke=\"#000000\"/>\n<text fill=\"#000000\" font-family=\"Times,serif\" font-size=\"14.00\" text-anchor=\"middle\" x=\"121.5\" y=\"-363.3\">input:</text>\n<polyline fill=\"none\" points=\"92.5,-355.5 150.5,-355.5 \" stroke=\"#000000\"/>\n<text fill=\"#000000\" font-family=\"Times,serif\" font-size=\"14.00\" text-anchor=\"middle\" x=\"121.5\" y=\"-340.3\">output:</text>\n<polyline fill=\"none\" points=\"150.5,-332.5 150.5,-378.5 \" stroke=\"#000000\"/>\n<text fill=\"#000000\" font-family=\"Times,serif\" font-size=\"14.00\" text-anchor=\"middle\" x=\"178.5\" y=\"-363.3\">[(?, 1)]</text>\n<polyline fill=\"none\" points=\"150.5,-355.5 206.5,-355.5 \" stroke=\"#000000\"/>\n<text fill=\"#000000\" font-family=\"Times,serif\" font-size=\"14.00\" text-anchor=\"middle\" x=\"178.5\" y=\"-340.3\">[(?, 1)]</text>\n</g>\n<!-- 140074735238336 -->\n<g class=\"node\" id=\"node3\">\n<title>140074735238336</title>\n<polygon fill=\"none\" points=\"0,-249.5 0,-295.5 219,-295.5 219,-249.5 0,-249.5\" stroke=\"#000000\"/>\n<text fill=\"#000000\" font-family=\"Times,serif\" font-size=\"14.00\" text-anchor=\"middle\" x=\"42\" y=\"-268.8\">Embedding</text>\n<polyline fill=\"none\" points=\"84,-249.5 84,-295.5 \" stroke=\"#000000\"/>\n<text fill=\"#000000\" font-family=\"Times,serif\" font-size=\"14.00\" text-anchor=\"middle\" x=\"113\" y=\"-280.3\">input:</text>\n<polyline fill=\"none\" points=\"84,-272.5 142,-272.5 \" stroke=\"#000000\"/>\n<text fill=\"#000000\" font-family=\"Times,serif\" font-size=\"14.00\" text-anchor=\"middle\" x=\"113\" y=\"-257.3\">output:</text>\n<polyline fill=\"none\" points=\"142,-249.5 142,-295.5 \" stroke=\"#000000\"/>\n<text fill=\"#000000\" font-family=\"Times,serif\" font-size=\"14.00\" text-anchor=\"middle\" x=\"180.5\" y=\"-280.3\">(?, 1)</text>\n<polyline fill=\"none\" points=\"142,-272.5 219,-272.5 \" stroke=\"#000000\"/>\n<text fill=\"#000000\" font-family=\"Times,serif\" font-size=\"14.00\" text-anchor=\"middle\" x=\"180.5\" y=\"-257.3\">(?, 1, 100)</text>\n</g>\n<!-- 140073737070072&#45;&gt;140074735238336 -->\n<g class=\"edge\" id=\"edge1\">\n<title>140073737070072-&gt;140074735238336</title>\n<path d=\"M109.5,-332.3799C109.5,-324.1745 109.5,-314.7679 109.5,-305.8786\" fill=\"none\" stroke=\"#000000\"/>\n<polygon fill=\"#000000\" points=\"113.0001,-305.784 109.5,-295.784 106.0001,-305.784 113.0001,-305.784\" stroke=\"#000000\"/>\n</g>\n<!-- 140074735238896 -->\n<g class=\"node\" id=\"node2\">\n<title>140074735238896</title>\n<polygon fill=\"none\" points=\"249.5,-332.5 249.5,-378.5 443.5,-378.5 443.5,-332.5 249.5,-332.5\" stroke=\"#000000\"/>\n<text fill=\"#000000\" font-family=\"Times,serif\" font-size=\"14.00\" text-anchor=\"middle\" x=\"289.5\" y=\"-351.8\">InputLayer</text>\n<polyline fill=\"none\" points=\"329.5,-332.5 329.5,-378.5 \" stroke=\"#000000\"/>\n<text fill=\"#000000\" font-family=\"Times,serif\" font-size=\"14.00\" text-anchor=\"middle\" x=\"358.5\" y=\"-363.3\">input:</text>\n<polyline fill=\"none\" points=\"329.5,-355.5 387.5,-355.5 \" stroke=\"#000000\"/>\n<text fill=\"#000000\" font-family=\"Times,serif\" font-size=\"14.00\" text-anchor=\"middle\" x=\"358.5\" y=\"-340.3\">output:</text>\n<polyline fill=\"none\" points=\"387.5,-332.5 387.5,-378.5 \" stroke=\"#000000\"/>\n<text fill=\"#000000\" font-family=\"Times,serif\" font-size=\"14.00\" text-anchor=\"middle\" x=\"415.5\" y=\"-363.3\">[(?, 1)]</text>\n<polyline fill=\"none\" points=\"387.5,-355.5 443.5,-355.5 \" stroke=\"#000000\"/>\n<text fill=\"#000000\" font-family=\"Times,serif\" font-size=\"14.00\" text-anchor=\"middle\" x=\"415.5\" y=\"-340.3\">[(?, 1)]</text>\n</g>\n<!-- 140074733775000 -->\n<g class=\"node\" id=\"node4\">\n<title>140074733775000</title>\n<polygon fill=\"none\" points=\"237,-249.5 237,-295.5 456,-295.5 456,-249.5 237,-249.5\" stroke=\"#000000\"/>\n<text fill=\"#000000\" font-family=\"Times,serif\" font-size=\"14.00\" text-anchor=\"middle\" x=\"279\" y=\"-268.8\">Embedding</text>\n<polyline fill=\"none\" points=\"321,-249.5 321,-295.5 \" stroke=\"#000000\"/>\n<text fill=\"#000000\" font-family=\"Times,serif\" font-size=\"14.00\" text-anchor=\"middle\" x=\"350\" y=\"-280.3\">input:</text>\n<polyline fill=\"none\" points=\"321,-272.5 379,-272.5 \" stroke=\"#000000\"/>\n<text fill=\"#000000\" font-family=\"Times,serif\" font-size=\"14.00\" text-anchor=\"middle\" x=\"350\" y=\"-257.3\">output:</text>\n<polyline fill=\"none\" points=\"379,-249.5 379,-295.5 \" stroke=\"#000000\"/>\n<text fill=\"#000000\" font-family=\"Times,serif\" font-size=\"14.00\" text-anchor=\"middle\" x=\"417.5\" y=\"-280.3\">(?, 1)</text>\n<polyline fill=\"none\" points=\"379,-272.5 456,-272.5 \" stroke=\"#000000\"/>\n<text fill=\"#000000\" font-family=\"Times,serif\" font-size=\"14.00\" text-anchor=\"middle\" x=\"417.5\" y=\"-257.3\">(?, 1, 100)</text>\n</g>\n<!-- 140074735238896&#45;&gt;140074733775000 -->\n<g class=\"edge\" id=\"edge2\">\n<title>140074735238896-&gt;140074733775000</title>\n<path d=\"M346.5,-332.3799C346.5,-324.1745 346.5,-314.7679 346.5,-305.8786\" fill=\"none\" stroke=\"#000000\"/>\n<polygon fill=\"#000000\" points=\"350.0001,-305.784 346.5,-295.784 343.0001,-305.784 350.0001,-305.784\" stroke=\"#000000\"/>\n</g>\n<!-- 140074735238280 -->\n<g class=\"node\" id=\"node5\">\n<title>140074735238280</title>\n<polygon fill=\"none\" points=\"28,-166.5 28,-212.5 219,-212.5 219,-166.5 28,-166.5\" stroke=\"#000000\"/>\n<text fill=\"#000000\" font-family=\"Times,serif\" font-size=\"14.00\" text-anchor=\"middle\" x=\"56\" y=\"-185.8\">Flatten</text>\n<polyline fill=\"none\" points=\"84,-166.5 84,-212.5 \" stroke=\"#000000\"/>\n<text fill=\"#000000\" font-family=\"Times,serif\" font-size=\"14.00\" text-anchor=\"middle\" x=\"113\" y=\"-197.3\">input:</text>\n<polyline fill=\"none\" points=\"84,-189.5 142,-189.5 \" stroke=\"#000000\"/>\n<text fill=\"#000000\" font-family=\"Times,serif\" font-size=\"14.00\" text-anchor=\"middle\" x=\"113\" y=\"-174.3\">output:</text>\n<polyline fill=\"none\" points=\"142,-166.5 142,-212.5 \" stroke=\"#000000\"/>\n<text fill=\"#000000\" font-family=\"Times,serif\" font-size=\"14.00\" text-anchor=\"middle\" x=\"180.5\" y=\"-197.3\">(?, 1, 100)</text>\n<polyline fill=\"none\" points=\"142,-189.5 219,-189.5 \" stroke=\"#000000\"/>\n<text fill=\"#000000\" font-family=\"Times,serif\" font-size=\"14.00\" text-anchor=\"middle\" x=\"180.5\" y=\"-174.3\">(?, 100)</text>\n</g>\n<!-- 140074735238336&#45;&gt;140074735238280 -->\n<g class=\"edge\" id=\"edge3\">\n<title>140074735238336-&gt;140074735238280</title>\n<path d=\"M113.3998,-249.3799C114.7838,-241.1745 116.3705,-231.7679 117.8699,-222.8786\" fill=\"none\" stroke=\"#000000\"/>\n<polygon fill=\"#000000\" points=\"121.3605,-223.2269 119.5726,-212.784 114.458,-222.0625 121.3605,-223.2269\" stroke=\"#000000\"/>\n</g>\n<!-- 140074733949504 -->\n<g class=\"node\" id=\"node6\">\n<title>140074733949504</title>\n<polygon fill=\"none\" points=\"244,-166.5 244,-212.5 435,-212.5 435,-166.5 244,-166.5\" stroke=\"#000000\"/>\n<text fill=\"#000000\" font-family=\"Times,serif\" font-size=\"14.00\" text-anchor=\"middle\" x=\"272\" y=\"-185.8\">Flatten</text>\n<polyline fill=\"none\" points=\"300,-166.5 300,-212.5 \" stroke=\"#000000\"/>\n<text fill=\"#000000\" font-family=\"Times,serif\" font-size=\"14.00\" text-anchor=\"middle\" x=\"329\" y=\"-197.3\">input:</text>\n<polyline fill=\"none\" points=\"300,-189.5 358,-189.5 \" stroke=\"#000000\"/>\n<text fill=\"#000000\" font-family=\"Times,serif\" font-size=\"14.00\" text-anchor=\"middle\" x=\"329\" y=\"-174.3\">output:</text>\n<polyline fill=\"none\" points=\"358,-166.5 358,-212.5 \" stroke=\"#000000\"/>\n<text fill=\"#000000\" font-family=\"Times,serif\" font-size=\"14.00\" text-anchor=\"middle\" x=\"396.5\" y=\"-197.3\">(?, 1, 100)</text>\n<polyline fill=\"none\" points=\"358,-189.5 435,-189.5 \" stroke=\"#000000\"/>\n<text fill=\"#000000\" font-family=\"Times,serif\" font-size=\"14.00\" text-anchor=\"middle\" x=\"396.5\" y=\"-174.3\">(?, 100)</text>\n</g>\n<!-- 140074733775000&#45;&gt;140074733949504 -->\n<g class=\"edge\" id=\"edge4\">\n<title>140074733775000-&gt;140074733949504</title>\n<path d=\"M344.5501,-249.3799C343.8581,-241.1745 343.0648,-231.7679 342.3151,-222.8786\" fill=\"none\" stroke=\"#000000\"/>\n<polygon fill=\"#000000\" points=\"345.7918,-222.4545 341.4637,-212.784 338.8166,-223.0428 345.7918,-222.4545\" stroke=\"#000000\"/>\n</g>\n<!-- 140074738477488 -->\n<g class=\"node\" id=\"node7\">\n<title>140074738477488</title>\n<polygon fill=\"none\" points=\"103.5,-83.5 103.5,-129.5 351.5,-129.5 351.5,-83.5 103.5,-83.5\" stroke=\"#000000\"/>\n<text fill=\"#000000\" font-family=\"Times,serif\" font-size=\"14.00\" text-anchor=\"middle\" x=\"137\" y=\"-102.8\">Multiply</text>\n<polyline fill=\"none\" points=\"170.5,-83.5 170.5,-129.5 \" stroke=\"#000000\"/>\n<text fill=\"#000000\" font-family=\"Times,serif\" font-size=\"14.00\" text-anchor=\"middle\" x=\"199.5\" y=\"-114.3\">input:</text>\n<polyline fill=\"none\" points=\"170.5,-106.5 228.5,-106.5 \" stroke=\"#000000\"/>\n<text fill=\"#000000\" font-family=\"Times,serif\" font-size=\"14.00\" text-anchor=\"middle\" x=\"199.5\" y=\"-91.3\">output:</text>\n<polyline fill=\"none\" points=\"228.5,-83.5 228.5,-129.5 \" stroke=\"#000000\"/>\n<text fill=\"#000000\" font-family=\"Times,serif\" font-size=\"14.00\" text-anchor=\"middle\" x=\"290\" y=\"-114.3\">[(?, 100), (?, 100)]</text>\n<polyline fill=\"none\" points=\"228.5,-106.5 351.5,-106.5 \" stroke=\"#000000\"/>\n<text fill=\"#000000\" font-family=\"Times,serif\" font-size=\"14.00\" text-anchor=\"middle\" x=\"290\" y=\"-91.3\">(?, 100)</text>\n</g>\n<!-- 140074735238280&#45;&gt;140074738477488 -->\n<g class=\"edge\" id=\"edge5\">\n<title>140074735238280-&gt;140074738477488</title>\n<path d=\"M152.4698,-166.3799C164.204,-157.0151 177.8989,-146.0855 190.353,-136.1462\" fill=\"none\" stroke=\"#000000\"/>\n<polygon fill=\"#000000\" points=\"192.6921,-138.7574 198.3249,-129.784 188.3256,-133.2862 192.6921,-138.7574\" stroke=\"#000000\"/>\n</g>\n<!-- 140074733949504&#45;&gt;140074738477488 -->\n<g class=\"edge\" id=\"edge6\">\n<title>140074733949504-&gt;140074738477488</title>\n<path d=\"M308.3018,-166.3799C295.5446,-156.9259 280.6355,-145.8772 267.1216,-135.8625\" fill=\"none\" stroke=\"#000000\"/>\n<polygon fill=\"#000000\" points=\"269.0376,-132.926 258.9194,-129.784 264.8698,-138.55 269.0376,-132.926\" stroke=\"#000000\"/>\n</g>\n<!-- 140074738475808 -->\n<g class=\"node\" id=\"node8\">\n<title>140074738475808</title>\n<polygon fill=\"none\" points=\"141.5,-.5 141.5,-46.5 313.5,-46.5 313.5,-.5 141.5,-.5\" stroke=\"#000000\"/>\n<text fill=\"#000000\" font-family=\"Times,serif\" font-size=\"14.00\" text-anchor=\"middle\" x=\"167.5\" y=\"-19.8\">Dense</text>\n<polyline fill=\"none\" points=\"193.5,-.5 193.5,-46.5 \" stroke=\"#000000\"/>\n<text fill=\"#000000\" font-family=\"Times,serif\" font-size=\"14.00\" text-anchor=\"middle\" x=\"222.5\" y=\"-31.3\">input:</text>\n<polyline fill=\"none\" points=\"193.5,-23.5 251.5,-23.5 \" stroke=\"#000000\"/>\n<text fill=\"#000000\" font-family=\"Times,serif\" font-size=\"14.00\" text-anchor=\"middle\" x=\"222.5\" y=\"-8.3\">output:</text>\n<polyline fill=\"none\" points=\"251.5,-.5 251.5,-46.5 \" stroke=\"#000000\"/>\n<text fill=\"#000000\" font-family=\"Times,serif\" font-size=\"14.00\" text-anchor=\"middle\" x=\"282.5\" y=\"-31.3\">(?, 100)</text>\n<polyline fill=\"none\" points=\"251.5,-23.5 313.5,-23.5 \" stroke=\"#000000\"/>\n<text fill=\"#000000\" font-family=\"Times,serif\" font-size=\"14.00\" text-anchor=\"middle\" x=\"282.5\" y=\"-8.3\">(?, 1)</text>\n</g>\n<!-- 140074738477488&#45;&gt;140074738475808 -->\n<g class=\"edge\" id=\"edge7\">\n<title>140074738477488-&gt;140074738475808</title>\n<path d=\"M227.5,-83.3799C227.5,-75.1745 227.5,-65.7679 227.5,-56.8786\" fill=\"none\" stroke=\"#000000\"/>\n<polygon fill=\"#000000\" points=\"231.0001,-56.784 227.5,-46.784 224.0001,-56.784 231.0001,-56.784\" stroke=\"#000000\"/>\n</g>\n</g>\n</svg>"
          },
          "metadata": {
            "tags": []
          },
          "execution_count": 142
        }
      ]
    },
    {
      "cell_type": "code",
      "metadata": {
        "id": "V2ZrLPog_SGo",
        "colab": {
          "base_uri": "https://localhost:8080/"
        },
        "outputId": "5e5e0c3a-ee0f-47d6-b8e9-79d07ee67bfa"
      },
      "source": [
        "import tensorflow as tf\r\n",
        "\r\n",
        "my_callbacks = [tf.keras.callbacks.EarlyStopping(patience=3, monitor = 'val_loss'),]\r\n",
        "\r\n",
        "\r\n",
        "algorithm = 'Matrix Factorization'\r\n",
        "print(algorithm)\r\n",
        "result = {'training':{'MSE':[],'r2':[],'time':[]},'testing':{'MSE':[],'r2':[],'time':[]}}\r\n",
        "for index in range(data_set_len):\r\n",
        "  #training\r\n",
        "  start = time.time()\r\n",
        "\r\n",
        "  x = traing_data['x'][index]\r\n",
        "  y = traing_data['y'][index]\r\n",
        "  model.fit(x,y,epochs=100,batch_size=2048,validation_split = 0.1,callbacks=my_callbacks)\r\n",
        "  training_pred = model.predict(x)\r\n",
        "  result['training']['MSE'].append(round(mean_squared_error(y, training_pred),4))\r\n",
        "  result['training']['r2'].append(round(r2_score(y, training_pred),4))\r\n",
        "  result['training']['time'].append(round((time.time() - start),1))\r\n",
        "  \r\n",
        "  #testing  \r\n",
        "  start = time.time()\r\n",
        "  x = testing_data['x'][index]\r\n",
        "  y = testing_data['y'][index]\r\n",
        "  testing_pred = model.predict(x)\r\n",
        "  result['testing']['MSE'].append(round(mean_squared_error(y, testing_pred),4))\r\n",
        "  result['testing']['r2'].append(round(r2_score(y, testing_pred),4))\r\n",
        "  result['testing']['time'].append(round((time.time() - start),1))\r\n",
        "\r\n",
        "  for data_index in range(5):\r\n",
        "    print(index,data_index,testing_pred[data_index],y.iloc[data_index])\r\n",
        "\r\n",
        "  '''\r\n",
        "  for data in result:\r\n",
        "    print(index,data)\r\n",
        "    for measure in result[data]:\r\n",
        "      print(measure,result[data][measure][index])\r\n",
        "  '''\r\n",
        "\r\n",
        "Total_result.update({algorithm:{}})\r\n",
        "for data in result:\r\n",
        "  Total_result[algorithm].update({data:{}})\r\n",
        "  print(data,\":\")\r\n",
        "  for measure in result[data]:\r\n",
        "    avg = Ave(result[data][measure])\r\n",
        "    Total_result[algorithm][data].update({measure:avg})\r\n",
        "    print(measure,avg)\r\n"
      ],
      "execution_count": 143,
      "outputs": [
        {
          "output_type": "stream",
          "text": [
            "Matrix Factorization\n",
            "Epoch 1/100\n",
            "671/671 [==============================] - 25s 37ms/step - loss: 2.8106 - mean_squared_error: 2.8106 - val_loss: 0.8092 - val_mean_squared_error: 0.8092\n",
            "Epoch 2/100\n",
            "671/671 [==============================] - 24s 36ms/step - loss: 0.6039 - mean_squared_error: 0.6039 - val_loss: 0.7361 - val_mean_squared_error: 0.7361\n",
            "Epoch 3/100\n",
            "671/671 [==============================] - 25s 37ms/step - loss: 0.4112 - mean_squared_error: 0.4112 - val_loss: 0.7375 - val_mean_squared_error: 0.7375\n",
            "Epoch 4/100\n",
            "671/671 [==============================] - 25s 37ms/step - loss: 0.3082 - mean_squared_error: 0.3082 - val_loss: 0.7518 - val_mean_squared_error: 0.7518\n",
            "Epoch 5/100\n",
            "671/671 [==============================] - 25s 37ms/step - loss: 0.2502 - mean_squared_error: 0.2502 - val_loss: 0.7651 - val_mean_squared_error: 0.7651\n",
            "0 0 [2.9466972] 4.0\n",
            "0 1 [4.354489] 4.0\n",
            "0 2 [3.4199924] 3.5\n",
            "0 3 [3.2551599] 4.0\n",
            "0 4 [4.463199] 5.0\n",
            "training :\n",
            "MSE 0.2442\n",
            "r2 0.7837\n",
            "time 150.1\n",
            "testing :\n",
            "MSE 0.7675\n",
            "r2 0.322\n",
            "time 6.5\n"
          ],
          "name": "stdout"
        }
      ]
    },
    {
      "cell_type": "markdown",
      "metadata": {
        "id": "QRE4fPwSJago"
      },
      "source": [
        "###Model 3:Multilayer perceptron"
      ]
    },
    {
      "cell_type": "code",
      "metadata": {
        "id": "gPbZtJl3KMnI",
        "colab": {
          "base_uri": "https://localhost:8080/",
          "height": 1000
        },
        "outputId": "7fcdf784-0b41-45dc-9e8b-60844c4b4029"
      },
      "source": [
        "#network setting\r\n",
        "\r\n",
        "# user input\r\n",
        "user_input = Input(1,name='user')\r\n",
        "user_hidden = Embedding(input_dim=user_num, output_dim=n_components,name='user_embedding')(user_input)\r\n",
        "user_hidden = Flatten()(user_hidden)\r\n",
        "\r\n",
        "# movie input\r\n",
        "movie_input = Input(1,name='movie')\r\n",
        "movie_hidden = Embedding(input_dim=movie_num, output_dim=n_components,name='movie_embedding')(movie_input)\r\n",
        "movie_hidden = Flatten()(movie_hidden)\r\n",
        "\r\n",
        "#multilayer perceptron\r\n",
        "hidden = concatenate([user_hidden, movie_hidden])\r\n",
        "hidden = Dense(128, activation='relu')(hidden)\r\n",
        "hidden = Dropout(0.2)(hidden)\r\n",
        "hidden = Dense(64, activation='relu')(hidden)    \r\n",
        "hidden = Dropout(0.2)(hidden)    \r\n",
        "\r\n",
        "output = Dense(1, activation='linear')(hidden)\r\n",
        "\r\n",
        "model = Model(inputs=[user_input, movie_input], outputs=output)\r\n",
        "model.compile(loss='mean_squared_error', optimizer=Adam(lr=0.005),metrics=['mean_squared_error'])\r\n",
        "\r\n",
        "\r\n",
        "print(model.summary())\r\n",
        "\r\n",
        "SVG(model_to_dot(model, show_layer_names=False, show_shapes=True, dpi=65).create(prog='dot', format='svg'))"
      ],
      "execution_count": 144,
      "outputs": [
        {
          "output_type": "stream",
          "text": [
            "Model: \"functional_45\"\n",
            "__________________________________________________________________________________________________\n",
            "Layer (type)                    Output Shape         Param #     Connected to                     \n",
            "==================================================================================================\n",
            "user (InputLayer)               [(None, 1)]          0                                            \n",
            "__________________________________________________________________________________________________\n",
            "movie (InputLayer)              [(None, 1)]          0                                            \n",
            "__________________________________________________________________________________________________\n",
            "user_embedding (Embedding)      (None, 1, 100)       1457700     user[0][0]                       \n",
            "__________________________________________________________________________________________________\n",
            "movie_embedding (Embedding)     (None, 1, 100)       4698800     movie[0][0]                      \n",
            "__________________________________________________________________________________________________\n",
            "flatten_44 (Flatten)            (None, 100)          0           user_embedding[0][0]             \n",
            "__________________________________________________________________________________________________\n",
            "flatten_45 (Flatten)            (None, 100)          0           movie_embedding[0][0]            \n",
            "__________________________________________________________________________________________________\n",
            "concatenate_19 (Concatenate)    (None, 200)          0           flatten_44[0][0]                 \n",
            "                                                                 flatten_45[0][0]                 \n",
            "__________________________________________________________________________________________________\n",
            "dense_48 (Dense)                (None, 128)          25728       concatenate_19[0][0]             \n",
            "__________________________________________________________________________________________________\n",
            "dropout_20 (Dropout)            (None, 128)          0           dense_48[0][0]                   \n",
            "__________________________________________________________________________________________________\n",
            "dense_49 (Dense)                (None, 64)           8256        dropout_20[0][0]                 \n",
            "__________________________________________________________________________________________________\n",
            "dropout_21 (Dropout)            (None, 64)           0           dense_49[0][0]                   \n",
            "__________________________________________________________________________________________________\n",
            "dense_50 (Dense)                (None, 1)            65          dropout_21[0][0]                 \n",
            "==================================================================================================\n",
            "Total params: 6,190,549\n",
            "Trainable params: 6,190,549\n",
            "Non-trainable params: 0\n",
            "__________________________________________________________________________________________________\n",
            "None\n"
          ],
          "name": "stdout"
        },
        {
          "output_type": "execute_result",
          "data": {
            "text/plain": [
              "<IPython.core.display.SVG object>"
            ],
            "image/svg+xml": "<svg height=\"649pt\" viewBox=\"0.00 0.00 464.00 719.00\" width=\"419pt\" xmlns=\"http://www.w3.org/2000/svg\" xmlns:xlink=\"http://www.w3.org/1999/xlink\">\n<g class=\"graph\" id=\"graph0\" transform=\"scale(.9028 .9028) rotate(0) translate(4 715)\">\n<title>G</title>\n<polygon fill=\"#ffffff\" points=\"-4,4 -4,-715 460,-715 460,4 -4,4\" stroke=\"transparent\"/>\n<!-- 140073779867264 -->\n<g class=\"node\" id=\"node1\">\n<title>140073779867264</title>\n<polygon fill=\"none\" points=\"12.5,-664.5 12.5,-710.5 206.5,-710.5 206.5,-664.5 12.5,-664.5\" stroke=\"#000000\"/>\n<text fill=\"#000000\" font-family=\"Times,serif\" font-size=\"14.00\" text-anchor=\"middle\" x=\"52.5\" y=\"-683.8\">InputLayer</text>\n<polyline fill=\"none\" points=\"92.5,-664.5 92.5,-710.5 \" stroke=\"#000000\"/>\n<text fill=\"#000000\" font-family=\"Times,serif\" font-size=\"14.00\" text-anchor=\"middle\" x=\"121.5\" y=\"-695.3\">input:</text>\n<polyline fill=\"none\" points=\"92.5,-687.5 150.5,-687.5 \" stroke=\"#000000\"/>\n<text fill=\"#000000\" font-family=\"Times,serif\" font-size=\"14.00\" text-anchor=\"middle\" x=\"121.5\" y=\"-672.3\">output:</text>\n<polyline fill=\"none\" points=\"150.5,-664.5 150.5,-710.5 \" stroke=\"#000000\"/>\n<text fill=\"#000000\" font-family=\"Times,serif\" font-size=\"14.00\" text-anchor=\"middle\" x=\"178.5\" y=\"-695.3\">[(?, 1)]</text>\n<polyline fill=\"none\" points=\"150.5,-687.5 206.5,-687.5 \" stroke=\"#000000\"/>\n<text fill=\"#000000\" font-family=\"Times,serif\" font-size=\"14.00\" text-anchor=\"middle\" x=\"178.5\" y=\"-672.3\">[(?, 1)]</text>\n</g>\n<!-- 140073779866536 -->\n<g class=\"node\" id=\"node3\">\n<title>140073779866536</title>\n<polygon fill=\"none\" points=\"0,-581.5 0,-627.5 219,-627.5 219,-581.5 0,-581.5\" stroke=\"#000000\"/>\n<text fill=\"#000000\" font-family=\"Times,serif\" font-size=\"14.00\" text-anchor=\"middle\" x=\"42\" y=\"-600.8\">Embedding</text>\n<polyline fill=\"none\" points=\"84,-581.5 84,-627.5 \" stroke=\"#000000\"/>\n<text fill=\"#000000\" font-family=\"Times,serif\" font-size=\"14.00\" text-anchor=\"middle\" x=\"113\" y=\"-612.3\">input:</text>\n<polyline fill=\"none\" points=\"84,-604.5 142,-604.5 \" stroke=\"#000000\"/>\n<text fill=\"#000000\" font-family=\"Times,serif\" font-size=\"14.00\" text-anchor=\"middle\" x=\"113\" y=\"-589.3\">output:</text>\n<polyline fill=\"none\" points=\"142,-581.5 142,-627.5 \" stroke=\"#000000\"/>\n<text fill=\"#000000\" font-family=\"Times,serif\" font-size=\"14.00\" text-anchor=\"middle\" x=\"180.5\" y=\"-612.3\">(?, 1)</text>\n<polyline fill=\"none\" points=\"142,-604.5 219,-604.5 \" stroke=\"#000000\"/>\n<text fill=\"#000000\" font-family=\"Times,serif\" font-size=\"14.00\" text-anchor=\"middle\" x=\"180.5\" y=\"-589.3\">(?, 1, 100)</text>\n</g>\n<!-- 140073779867264&#45;&gt;140073779866536 -->\n<g class=\"edge\" id=\"edge1\">\n<title>140073779867264-&gt;140073779866536</title>\n<path d=\"M109.5,-664.3799C109.5,-656.1745 109.5,-646.7679 109.5,-637.8786\" fill=\"none\" stroke=\"#000000\"/>\n<polygon fill=\"#000000\" points=\"113.0001,-637.784 109.5,-627.784 106.0001,-637.784 113.0001,-637.784\" stroke=\"#000000\"/>\n</g>\n<!-- 140073779865528 -->\n<g class=\"node\" id=\"node2\">\n<title>140073779865528</title>\n<polygon fill=\"none\" points=\"249.5,-664.5 249.5,-710.5 443.5,-710.5 443.5,-664.5 249.5,-664.5\" stroke=\"#000000\"/>\n<text fill=\"#000000\" font-family=\"Times,serif\" font-size=\"14.00\" text-anchor=\"middle\" x=\"289.5\" y=\"-683.8\">InputLayer</text>\n<polyline fill=\"none\" points=\"329.5,-664.5 329.5,-710.5 \" stroke=\"#000000\"/>\n<text fill=\"#000000\" font-family=\"Times,serif\" font-size=\"14.00\" text-anchor=\"middle\" x=\"358.5\" y=\"-695.3\">input:</text>\n<polyline fill=\"none\" points=\"329.5,-687.5 387.5,-687.5 \" stroke=\"#000000\"/>\n<text fill=\"#000000\" font-family=\"Times,serif\" font-size=\"14.00\" text-anchor=\"middle\" x=\"358.5\" y=\"-672.3\">output:</text>\n<polyline fill=\"none\" points=\"387.5,-664.5 387.5,-710.5 \" stroke=\"#000000\"/>\n<text fill=\"#000000\" font-family=\"Times,serif\" font-size=\"14.00\" text-anchor=\"middle\" x=\"415.5\" y=\"-695.3\">[(?, 1)]</text>\n<polyline fill=\"none\" points=\"387.5,-687.5 443.5,-687.5 \" stroke=\"#000000\"/>\n<text fill=\"#000000\" font-family=\"Times,serif\" font-size=\"14.00\" text-anchor=\"middle\" x=\"415.5\" y=\"-672.3\">[(?, 1)]</text>\n</g>\n<!-- 140073779866760 -->\n<g class=\"node\" id=\"node4\">\n<title>140073779866760</title>\n<polygon fill=\"none\" points=\"237,-581.5 237,-627.5 456,-627.5 456,-581.5 237,-581.5\" stroke=\"#000000\"/>\n<text fill=\"#000000\" font-family=\"Times,serif\" font-size=\"14.00\" text-anchor=\"middle\" x=\"279\" y=\"-600.8\">Embedding</text>\n<polyline fill=\"none\" points=\"321,-581.5 321,-627.5 \" stroke=\"#000000\"/>\n<text fill=\"#000000\" font-family=\"Times,serif\" font-size=\"14.00\" text-anchor=\"middle\" x=\"350\" y=\"-612.3\">input:</text>\n<polyline fill=\"none\" points=\"321,-604.5 379,-604.5 \" stroke=\"#000000\"/>\n<text fill=\"#000000\" font-family=\"Times,serif\" font-size=\"14.00\" text-anchor=\"middle\" x=\"350\" y=\"-589.3\">output:</text>\n<polyline fill=\"none\" points=\"379,-581.5 379,-627.5 \" stroke=\"#000000\"/>\n<text fill=\"#000000\" font-family=\"Times,serif\" font-size=\"14.00\" text-anchor=\"middle\" x=\"417.5\" y=\"-612.3\">(?, 1)</text>\n<polyline fill=\"none\" points=\"379,-604.5 456,-604.5 \" stroke=\"#000000\"/>\n<text fill=\"#000000\" font-family=\"Times,serif\" font-size=\"14.00\" text-anchor=\"middle\" x=\"417.5\" y=\"-589.3\">(?, 1, 100)</text>\n</g>\n<!-- 140073779865528&#45;&gt;140073779866760 -->\n<g class=\"edge\" id=\"edge2\">\n<title>140073779865528-&gt;140073779866760</title>\n<path d=\"M346.5,-664.3799C346.5,-656.1745 346.5,-646.7679 346.5,-637.8786\" fill=\"none\" stroke=\"#000000\"/>\n<polygon fill=\"#000000\" points=\"350.0001,-637.784 346.5,-627.784 343.0001,-637.784 350.0001,-637.784\" stroke=\"#000000\"/>\n</g>\n<!-- 140073779867208 -->\n<g class=\"node\" id=\"node5\">\n<title>140073779867208</title>\n<polygon fill=\"none\" points=\"28,-498.5 28,-544.5 219,-544.5 219,-498.5 28,-498.5\" stroke=\"#000000\"/>\n<text fill=\"#000000\" font-family=\"Times,serif\" font-size=\"14.00\" text-anchor=\"middle\" x=\"56\" y=\"-517.8\">Flatten</text>\n<polyline fill=\"none\" points=\"84,-498.5 84,-544.5 \" stroke=\"#000000\"/>\n<text fill=\"#000000\" font-family=\"Times,serif\" font-size=\"14.00\" text-anchor=\"middle\" x=\"113\" y=\"-529.3\">input:</text>\n<polyline fill=\"none\" points=\"84,-521.5 142,-521.5 \" stroke=\"#000000\"/>\n<text fill=\"#000000\" font-family=\"Times,serif\" font-size=\"14.00\" text-anchor=\"middle\" x=\"113\" y=\"-506.3\">output:</text>\n<polyline fill=\"none\" points=\"142,-498.5 142,-544.5 \" stroke=\"#000000\"/>\n<text fill=\"#000000\" font-family=\"Times,serif\" font-size=\"14.00\" text-anchor=\"middle\" x=\"180.5\" y=\"-529.3\">(?, 1, 100)</text>\n<polyline fill=\"none\" points=\"142,-521.5 219,-521.5 \" stroke=\"#000000\"/>\n<text fill=\"#000000\" font-family=\"Times,serif\" font-size=\"14.00\" text-anchor=\"middle\" x=\"180.5\" y=\"-506.3\">(?, 100)</text>\n</g>\n<!-- 140073779866536&#45;&gt;140073779867208 -->\n<g class=\"edge\" id=\"edge3\">\n<title>140073779866536-&gt;140073779867208</title>\n<path d=\"M113.3998,-581.3799C114.7838,-573.1745 116.3705,-563.7679 117.8699,-554.8786\" fill=\"none\" stroke=\"#000000\"/>\n<polygon fill=\"#000000\" points=\"121.3605,-555.2269 119.5726,-544.784 114.458,-554.0625 121.3605,-555.2269\" stroke=\"#000000\"/>\n</g>\n<!-- 140073780497152 -->\n<g class=\"node\" id=\"node6\">\n<title>140073780497152</title>\n<polygon fill=\"none\" points=\"244,-498.5 244,-544.5 435,-544.5 435,-498.5 244,-498.5\" stroke=\"#000000\"/>\n<text fill=\"#000000\" font-family=\"Times,serif\" font-size=\"14.00\" text-anchor=\"middle\" x=\"272\" y=\"-517.8\">Flatten</text>\n<polyline fill=\"none\" points=\"300,-498.5 300,-544.5 \" stroke=\"#000000\"/>\n<text fill=\"#000000\" font-family=\"Times,serif\" font-size=\"14.00\" text-anchor=\"middle\" x=\"329\" y=\"-529.3\">input:</text>\n<polyline fill=\"none\" points=\"300,-521.5 358,-521.5 \" stroke=\"#000000\"/>\n<text fill=\"#000000\" font-family=\"Times,serif\" font-size=\"14.00\" text-anchor=\"middle\" x=\"329\" y=\"-506.3\">output:</text>\n<polyline fill=\"none\" points=\"358,-498.5 358,-544.5 \" stroke=\"#000000\"/>\n<text fill=\"#000000\" font-family=\"Times,serif\" font-size=\"14.00\" text-anchor=\"middle\" x=\"396.5\" y=\"-529.3\">(?, 1, 100)</text>\n<polyline fill=\"none\" points=\"358,-521.5 435,-521.5 \" stroke=\"#000000\"/>\n<text fill=\"#000000\" font-family=\"Times,serif\" font-size=\"14.00\" text-anchor=\"middle\" x=\"396.5\" y=\"-506.3\">(?, 100)</text>\n</g>\n<!-- 140073779866760&#45;&gt;140073780497152 -->\n<g class=\"edge\" id=\"edge4\">\n<title>140073779866760-&gt;140073780497152</title>\n<path d=\"M344.5501,-581.3799C343.8581,-573.1745 343.0648,-563.7679 342.3151,-554.8786\" fill=\"none\" stroke=\"#000000\"/>\n<polygon fill=\"#000000\" points=\"345.7918,-554.4545 341.4637,-544.784 338.8166,-555.0428 345.7918,-554.4545\" stroke=\"#000000\"/>\n</g>\n<!-- 140073779857560 -->\n<g class=\"node\" id=\"node7\">\n<title>140073779857560</title>\n<polygon fill=\"none\" points=\"94,-415.5 94,-461.5 361,-461.5 361,-415.5 94,-415.5\" stroke=\"#000000\"/>\n<text fill=\"#000000\" font-family=\"Times,serif\" font-size=\"14.00\" text-anchor=\"middle\" x=\"137\" y=\"-434.8\">Concatenate</text>\n<polyline fill=\"none\" points=\"180,-415.5 180,-461.5 \" stroke=\"#000000\"/>\n<text fill=\"#000000\" font-family=\"Times,serif\" font-size=\"14.00\" text-anchor=\"middle\" x=\"209\" y=\"-446.3\">input:</text>\n<polyline fill=\"none\" points=\"180,-438.5 238,-438.5 \" stroke=\"#000000\"/>\n<text fill=\"#000000\" font-family=\"Times,serif\" font-size=\"14.00\" text-anchor=\"middle\" x=\"209\" y=\"-423.3\">output:</text>\n<polyline fill=\"none\" points=\"238,-415.5 238,-461.5 \" stroke=\"#000000\"/>\n<text fill=\"#000000\" font-family=\"Times,serif\" font-size=\"14.00\" text-anchor=\"middle\" x=\"299.5\" y=\"-446.3\">[(?, 100), (?, 100)]</text>\n<polyline fill=\"none\" points=\"238,-438.5 361,-438.5 \" stroke=\"#000000\"/>\n<text fill=\"#000000\" font-family=\"Times,serif\" font-size=\"14.00\" text-anchor=\"middle\" x=\"299.5\" y=\"-423.3\">(?, 200)</text>\n</g>\n<!-- 140073779867208&#45;&gt;140073779857560 -->\n<g class=\"edge\" id=\"edge5\">\n<title>140073779867208-&gt;140073779857560</title>\n<path d=\"M152.4698,-498.3799C164.204,-489.0151 177.8989,-478.0855 190.353,-468.1462\" fill=\"none\" stroke=\"#000000\"/>\n<polygon fill=\"#000000\" points=\"192.6921,-470.7574 198.3249,-461.784 188.3256,-465.2862 192.6921,-470.7574\" stroke=\"#000000\"/>\n</g>\n<!-- 140073780497152&#45;&gt;140073779857560 -->\n<g class=\"edge\" id=\"edge6\">\n<title>140073780497152-&gt;140073779857560</title>\n<path d=\"M308.3018,-498.3799C295.5446,-488.9259 280.6355,-477.8772 267.1216,-467.8625\" fill=\"none\" stroke=\"#000000\"/>\n<polygon fill=\"#000000\" points=\"269.0376,-464.926 258.9194,-461.784 264.8698,-470.55 269.0376,-464.926\" stroke=\"#000000\"/>\n</g>\n<!-- 140073779859296 -->\n<g class=\"node\" id=\"node8\">\n<title>140073779859296</title>\n<polygon fill=\"none\" points=\"141.5,-332.5 141.5,-378.5 313.5,-378.5 313.5,-332.5 141.5,-332.5\" stroke=\"#000000\"/>\n<text fill=\"#000000\" font-family=\"Times,serif\" font-size=\"14.00\" text-anchor=\"middle\" x=\"167.5\" y=\"-351.8\">Dense</text>\n<polyline fill=\"none\" points=\"193.5,-332.5 193.5,-378.5 \" stroke=\"#000000\"/>\n<text fill=\"#000000\" font-family=\"Times,serif\" font-size=\"14.00\" text-anchor=\"middle\" x=\"222.5\" y=\"-363.3\">input:</text>\n<polyline fill=\"none\" points=\"193.5,-355.5 251.5,-355.5 \" stroke=\"#000000\"/>\n<text fill=\"#000000\" font-family=\"Times,serif\" font-size=\"14.00\" text-anchor=\"middle\" x=\"222.5\" y=\"-340.3\">output:</text>\n<polyline fill=\"none\" points=\"251.5,-332.5 251.5,-378.5 \" stroke=\"#000000\"/>\n<text fill=\"#000000\" font-family=\"Times,serif\" font-size=\"14.00\" text-anchor=\"middle\" x=\"282.5\" y=\"-363.3\">(?, 200)</text>\n<polyline fill=\"none\" points=\"251.5,-355.5 313.5,-355.5 \" stroke=\"#000000\"/>\n<text fill=\"#000000\" font-family=\"Times,serif\" font-size=\"14.00\" text-anchor=\"middle\" x=\"282.5\" y=\"-340.3\">(?, 128)</text>\n</g>\n<!-- 140073779857560&#45;&gt;140073779859296 -->\n<g class=\"edge\" id=\"edge7\">\n<title>140073779857560-&gt;140073779859296</title>\n<path d=\"M227.5,-415.3799C227.5,-407.1745 227.5,-397.7679 227.5,-388.8786\" fill=\"none\" stroke=\"#000000\"/>\n<polygon fill=\"#000000\" points=\"231.0001,-388.784 227.5,-378.784 224.0001,-388.784 231.0001,-388.784\" stroke=\"#000000\"/>\n</g>\n<!-- 140074734042304 -->\n<g class=\"node\" id=\"node9\">\n<title>140074734042304</title>\n<polygon fill=\"none\" points=\"135,-249.5 135,-295.5 320,-295.5 320,-249.5 135,-249.5\" stroke=\"#000000\"/>\n<text fill=\"#000000\" font-family=\"Times,serif\" font-size=\"14.00\" text-anchor=\"middle\" x=\"167.5\" y=\"-268.8\">Dropout</text>\n<polyline fill=\"none\" points=\"200,-249.5 200,-295.5 \" stroke=\"#000000\"/>\n<text fill=\"#000000\" font-family=\"Times,serif\" font-size=\"14.00\" text-anchor=\"middle\" x=\"229\" y=\"-280.3\">input:</text>\n<polyline fill=\"none\" points=\"200,-272.5 258,-272.5 \" stroke=\"#000000\"/>\n<text fill=\"#000000\" font-family=\"Times,serif\" font-size=\"14.00\" text-anchor=\"middle\" x=\"229\" y=\"-257.3\">output:</text>\n<polyline fill=\"none\" points=\"258,-249.5 258,-295.5 \" stroke=\"#000000\"/>\n<text fill=\"#000000\" font-family=\"Times,serif\" font-size=\"14.00\" text-anchor=\"middle\" x=\"289\" y=\"-280.3\">(?, 128)</text>\n<polyline fill=\"none\" points=\"258,-272.5 320,-272.5 \" stroke=\"#000000\"/>\n<text fill=\"#000000\" font-family=\"Times,serif\" font-size=\"14.00\" text-anchor=\"middle\" x=\"289\" y=\"-257.3\">(?, 128)</text>\n</g>\n<!-- 140073779859296&#45;&gt;140074734042304 -->\n<g class=\"edge\" id=\"edge8\">\n<title>140073779859296-&gt;140074734042304</title>\n<path d=\"M227.5,-332.3799C227.5,-324.1745 227.5,-314.7679 227.5,-305.8786\" fill=\"none\" stroke=\"#000000\"/>\n<polygon fill=\"#000000\" points=\"231.0001,-305.784 227.5,-295.784 224.0001,-305.784 231.0001,-305.784\" stroke=\"#000000\"/>\n</g>\n<!-- 140074738319032 -->\n<g class=\"node\" id=\"node10\">\n<title>140074738319032</title>\n<polygon fill=\"none\" points=\"141.5,-166.5 141.5,-212.5 313.5,-212.5 313.5,-166.5 141.5,-166.5\" stroke=\"#000000\"/>\n<text fill=\"#000000\" font-family=\"Times,serif\" font-size=\"14.00\" text-anchor=\"middle\" x=\"167.5\" y=\"-185.8\">Dense</text>\n<polyline fill=\"none\" points=\"193.5,-166.5 193.5,-212.5 \" stroke=\"#000000\"/>\n<text fill=\"#000000\" font-family=\"Times,serif\" font-size=\"14.00\" text-anchor=\"middle\" x=\"222.5\" y=\"-197.3\">input:</text>\n<polyline fill=\"none\" points=\"193.5,-189.5 251.5,-189.5 \" stroke=\"#000000\"/>\n<text fill=\"#000000\" font-family=\"Times,serif\" font-size=\"14.00\" text-anchor=\"middle\" x=\"222.5\" y=\"-174.3\">output:</text>\n<polyline fill=\"none\" points=\"251.5,-166.5 251.5,-212.5 \" stroke=\"#000000\"/>\n<text fill=\"#000000\" font-family=\"Times,serif\" font-size=\"14.00\" text-anchor=\"middle\" x=\"282.5\" y=\"-197.3\">(?, 128)</text>\n<polyline fill=\"none\" points=\"251.5,-189.5 313.5,-189.5 \" stroke=\"#000000\"/>\n<text fill=\"#000000\" font-family=\"Times,serif\" font-size=\"14.00\" text-anchor=\"middle\" x=\"282.5\" y=\"-174.3\">(?, 64)</text>\n</g>\n<!-- 140074734042304&#45;&gt;140074738319032 -->\n<g class=\"edge\" id=\"edge9\">\n<title>140074734042304-&gt;140074738319032</title>\n<path d=\"M227.5,-249.3799C227.5,-241.1745 227.5,-231.7679 227.5,-222.8786\" fill=\"none\" stroke=\"#000000\"/>\n<polygon fill=\"#000000\" points=\"231.0001,-222.784 227.5,-212.784 224.0001,-222.784 231.0001,-222.784\" stroke=\"#000000\"/>\n</g>\n<!-- 140074738316120 -->\n<g class=\"node\" id=\"node11\">\n<title>140074738316120</title>\n<polygon fill=\"none\" points=\"139,-83.5 139,-129.5 316,-129.5 316,-83.5 139,-83.5\" stroke=\"#000000\"/>\n<text fill=\"#000000\" font-family=\"Times,serif\" font-size=\"14.00\" text-anchor=\"middle\" x=\"171.5\" y=\"-102.8\">Dropout</text>\n<polyline fill=\"none\" points=\"204,-83.5 204,-129.5 \" stroke=\"#000000\"/>\n<text fill=\"#000000\" font-family=\"Times,serif\" font-size=\"14.00\" text-anchor=\"middle\" x=\"233\" y=\"-114.3\">input:</text>\n<polyline fill=\"none\" points=\"204,-106.5 262,-106.5 \" stroke=\"#000000\"/>\n<text fill=\"#000000\" font-family=\"Times,serif\" font-size=\"14.00\" text-anchor=\"middle\" x=\"233\" y=\"-91.3\">output:</text>\n<polyline fill=\"none\" points=\"262,-83.5 262,-129.5 \" stroke=\"#000000\"/>\n<text fill=\"#000000\" font-family=\"Times,serif\" font-size=\"14.00\" text-anchor=\"middle\" x=\"289\" y=\"-114.3\">(?, 64)</text>\n<polyline fill=\"none\" points=\"262,-106.5 316,-106.5 \" stroke=\"#000000\"/>\n<text fill=\"#000000\" font-family=\"Times,serif\" font-size=\"14.00\" text-anchor=\"middle\" x=\"289\" y=\"-91.3\">(?, 64)</text>\n</g>\n<!-- 140074738319032&#45;&gt;140074738316120 -->\n<g class=\"edge\" id=\"edge10\">\n<title>140074738319032-&gt;140074738316120</title>\n<path d=\"M227.5,-166.3799C227.5,-158.1745 227.5,-148.7679 227.5,-139.8786\" fill=\"none\" stroke=\"#000000\"/>\n<polygon fill=\"#000000\" points=\"231.0001,-139.784 227.5,-129.784 224.0001,-139.784 231.0001,-139.784\" stroke=\"#000000\"/>\n</g>\n<!-- 140074734427104 -->\n<g class=\"node\" id=\"node12\">\n<title>140074734427104</title>\n<polygon fill=\"none\" points=\"145.5,-.5 145.5,-46.5 309.5,-46.5 309.5,-.5 145.5,-.5\" stroke=\"#000000\"/>\n<text fill=\"#000000\" font-family=\"Times,serif\" font-size=\"14.00\" text-anchor=\"middle\" x=\"171.5\" y=\"-19.8\">Dense</text>\n<polyline fill=\"none\" points=\"197.5,-.5 197.5,-46.5 \" stroke=\"#000000\"/>\n<text fill=\"#000000\" font-family=\"Times,serif\" font-size=\"14.00\" text-anchor=\"middle\" x=\"226.5\" y=\"-31.3\">input:</text>\n<polyline fill=\"none\" points=\"197.5,-23.5 255.5,-23.5 \" stroke=\"#000000\"/>\n<text fill=\"#000000\" font-family=\"Times,serif\" font-size=\"14.00\" text-anchor=\"middle\" x=\"226.5\" y=\"-8.3\">output:</text>\n<polyline fill=\"none\" points=\"255.5,-.5 255.5,-46.5 \" stroke=\"#000000\"/>\n<text fill=\"#000000\" font-family=\"Times,serif\" font-size=\"14.00\" text-anchor=\"middle\" x=\"282.5\" y=\"-31.3\">(?, 64)</text>\n<polyline fill=\"none\" points=\"255.5,-23.5 309.5,-23.5 \" stroke=\"#000000\"/>\n<text fill=\"#000000\" font-family=\"Times,serif\" font-size=\"14.00\" text-anchor=\"middle\" x=\"282.5\" y=\"-8.3\">(?, 1)</text>\n</g>\n<!-- 140074738316120&#45;&gt;140074734427104 -->\n<g class=\"edge\" id=\"edge11\">\n<title>140074738316120-&gt;140074734427104</title>\n<path d=\"M227.5,-83.3799C227.5,-75.1745 227.5,-65.7679 227.5,-56.8786\" fill=\"none\" stroke=\"#000000\"/>\n<polygon fill=\"#000000\" points=\"231.0001,-56.784 227.5,-46.784 224.0001,-56.784 231.0001,-56.784\" stroke=\"#000000\"/>\n</g>\n</g>\n</svg>"
          },
          "metadata": {
            "tags": []
          },
          "execution_count": 144
        }
      ]
    },
    {
      "cell_type": "code",
      "metadata": {
        "id": "Te45ml1fKoqH",
        "colab": {
          "base_uri": "https://localhost:8080/"
        },
        "outputId": "6ef684d7-5ee4-491c-dcbc-1ce3c34b0e7b"
      },
      "source": [
        "my_callbacks = [tf.keras.callbacks.EarlyStopping(patience=3, monitor = 'val_loss'),]\r\n",
        "\r\n",
        "\r\n",
        "algorithm = 'Multilayer perceptron'\r\n",
        "print(algorithm)\r\n",
        "result = {'training':{'MSE':[],'r2':[],'time':[]},'testing':{'MSE':[],'r2':[],'time':[]}}\r\n",
        "for index in range(data_set_len):\r\n",
        "  #training\r\n",
        "  start = time.time()\r\n",
        "\r\n",
        "  x = traing_data['x'][index]\r\n",
        "  y = traing_data['y'][index]\r\n",
        "  model.fit(x,y,epochs=100,batch_size=2048,validation_split = 0.1,callbacks=my_callbacks)\r\n",
        "  training_pred = model.predict(x)\r\n",
        "  result['training']['MSE'].append(round(mean_squared_error(y, training_pred),4))\r\n",
        "  result['training']['r2'].append(round(r2_score(y, training_pred),4))\r\n",
        "  result['training']['time'].append(round((time.time() - start),1))\r\n",
        "  \r\n",
        "  #testing  \r\n",
        "  start = time.time()\r\n",
        "  x = testing_data['x'][index]\r\n",
        "  y = testing_data['y'][index]\r\n",
        "  testing_pred = model.predict(x)\r\n",
        "  result['testing']['MSE'].append(round(mean_squared_error(y, testing_pred),4))\r\n",
        "  result['testing']['r2'].append(round(r2_score(y, testing_pred),4))\r\n",
        "  result['testing']['time'].append(round((time.time() - start),1))\r\n",
        "\r\n",
        "  for data_index in range(5):\r\n",
        "    print(index,data_index,testing_pred[data_index],y.iloc[data_index])\r\n",
        "\r\n",
        "  '''\r\n",
        "  for data in result:\r\n",
        "    print(index,data)\r\n",
        "    for measure in result[data]:\r\n",
        "      print(measure,result[data][measure][index])\r\n",
        "  '''\r\n",
        "\r\n",
        "Total_result.update({algorithm:{}})\r\n",
        "for data in result:\r\n",
        "  Total_result[algorithm].update({data:{}})\r\n",
        "  print(data,\":\")\r\n",
        "  for measure in result[data]:\r\n",
        "    avg = Ave(result[data][measure])\r\n",
        "    Total_result[algorithm][data].update({measure:avg})\r\n",
        "    print(measure,avg)\r\n"
      ],
      "execution_count": 145,
      "outputs": [
        {
          "output_type": "stream",
          "text": [
            "Multilayer perceptron\n",
            "Epoch 1/100\n",
            "671/671 [==============================] - 36s 53ms/step - loss: 0.9761 - mean_squared_error: 0.9761 - val_loss: 0.6902 - val_mean_squared_error: 0.6902\n",
            "Epoch 2/100\n",
            "671/671 [==============================] - 35s 52ms/step - loss: 0.7354 - mean_squared_error: 0.7354 - val_loss: 0.6653 - val_mean_squared_error: 0.6653\n",
            "Epoch 3/100\n",
            "671/671 [==============================] - 35s 52ms/step - loss: 0.6824 - mean_squared_error: 0.6824 - val_loss: 0.6564 - val_mean_squared_error: 0.6564\n",
            "Epoch 4/100\n",
            "671/671 [==============================] - 35s 52ms/step - loss: 0.6352 - mean_squared_error: 0.6352 - val_loss: 0.6431 - val_mean_squared_error: 0.6431\n",
            "Epoch 5/100\n",
            "671/671 [==============================] - 35s 52ms/step - loss: 0.5929 - mean_squared_error: 0.5929 - val_loss: 0.6337 - val_mean_squared_error: 0.6337\n",
            "Epoch 6/100\n",
            "671/671 [==============================] - 35s 52ms/step - loss: 0.5591 - mean_squared_error: 0.5591 - val_loss: 0.6291 - val_mean_squared_error: 0.6291\n",
            "Epoch 7/100\n",
            "671/671 [==============================] - 34s 51ms/step - loss: 0.5318 - mean_squared_error: 0.5318 - val_loss: 0.6233 - val_mean_squared_error: 0.6233\n",
            "Epoch 8/100\n",
            "671/671 [==============================] - 35s 52ms/step - loss: 0.5086 - mean_squared_error: 0.5086 - val_loss: 0.6220 - val_mean_squared_error: 0.6220\n",
            "Epoch 9/100\n",
            "671/671 [==============================] - 35s 52ms/step - loss: 0.4887 - mean_squared_error: 0.4887 - val_loss: 0.6243 - val_mean_squared_error: 0.6243\n",
            "Epoch 10/100\n",
            "671/671 [==============================] - 36s 53ms/step - loss: 0.4702 - mean_squared_error: 0.4702 - val_loss: 0.6232 - val_mean_squared_error: 0.6232\n",
            "Epoch 11/100\n",
            "671/671 [==============================] - 36s 54ms/step - loss: 0.4519 - mean_squared_error: 0.4519 - val_loss: 0.6209 - val_mean_squared_error: 0.6209\n",
            "Epoch 12/100\n",
            "671/671 [==============================] - 35s 52ms/step - loss: 0.4382 - mean_squared_error: 0.4382 - val_loss: 0.6232 - val_mean_squared_error: 0.6232\n",
            "Epoch 13/100\n",
            "671/671 [==============================] - 36s 54ms/step - loss: 0.4239 - mean_squared_error: 0.4239 - val_loss: 0.6228 - val_mean_squared_error: 0.6228\n",
            "Epoch 14/100\n",
            "671/671 [==============================] - 35s 52ms/step - loss: 0.4112 - mean_squared_error: 0.4112 - val_loss: 0.6254 - val_mean_squared_error: 0.6254\n",
            "0 0 [3.1687615] 4.0\n",
            "0 1 [4.1461225] 4.0\n",
            "0 2 [3.8946576] 3.5\n",
            "0 3 [3.2359478] 4.0\n",
            "0 4 [4.5159903] 5.0\n",
            "training :\n",
            "MSE 0.3708\n",
            "r2 0.6717\n",
            "time 524.1\n",
            "testing :\n",
            "MSE 0.6264\n",
            "r2 0.4466\n",
            "time 7.8\n"
          ],
          "name": "stdout"
        }
      ]
    },
    {
      "cell_type": "markdown",
      "metadata": {
        "id": "_AP9fAezRTks"
      },
      "source": [
        "###Model 4:NeuralCF"
      ]
    },
    {
      "cell_type": "code",
      "metadata": {
        "colab": {
          "base_uri": "https://localhost:8080/",
          "height": 1000
        },
        "id": "QNpyK4tgRWvn",
        "outputId": "0f795b93-6481-42b3-9139-0b881a8d97fc"
      },
      "source": [
        "#network setting\r\n",
        "# user input\r\n",
        "user_input = Input(1,name='user')\r\n",
        "user_hidden = Embedding(input_dim=user_num, output_dim=n_components,name='user_embedding')(user_input)\r\n",
        "user_hidden = Flatten()(user_hidden)\r\n",
        "\r\n",
        "# movie input\r\n",
        "movie_input = Input(1,name='movie')\r\n",
        "movie_hidden = Embedding(input_dim=movie_num, output_dim=n_components,name='movie_embedding')(movie_input)\r\n",
        "movie_hidden = Flatten()(movie_hidden)\r\n",
        "\r\n",
        "\r\n",
        "# element-wise multiplication\r\n",
        "gmf_output = Multiply()([user_hidden, movie_hidden])\r\n",
        "\r\n",
        "#multilayer perceptron\r\n",
        "hidden = concatenate([user_hidden, movie_hidden])\r\n",
        "hidden = Dense(128, activation='relu')(hidden)\r\n",
        "hidden = Dropout(0.2)(hidden)\r\n",
        "mlp_output = Dense(64, activation='relu')(hidden) \r\n",
        "\r\n",
        "output = concatenate([gmf_output, mlp_output])\r\n",
        "output = Dense(1, activation='linear')(output)\r\n",
        "\r\n",
        "model = Model(inputs=[user_input, movie_input], outputs=output)\r\n",
        "model.compile(loss='mean_squared_error', optimizer=Adam(lr=0.005),metrics=['mean_squared_error'])\r\n",
        "\r\n",
        "\r\n",
        "print(model.summary())\r\n",
        "\r\n",
        "SVG(model_to_dot(model, show_layer_names=False, show_shapes=True, dpi=65).create(prog='dot', format='svg'))"
      ],
      "execution_count": 146,
      "outputs": [
        {
          "output_type": "stream",
          "text": [
            "Model: \"functional_47\"\n",
            "__________________________________________________________________________________________________\n",
            "Layer (type)                    Output Shape         Param #     Connected to                     \n",
            "==================================================================================================\n",
            "user (InputLayer)               [(None, 1)]          0                                            \n",
            "__________________________________________________________________________________________________\n",
            "movie (InputLayer)              [(None, 1)]          0                                            \n",
            "__________________________________________________________________________________________________\n",
            "user_embedding (Embedding)      (None, 1, 100)       1457700     user[0][0]                       \n",
            "__________________________________________________________________________________________________\n",
            "movie_embedding (Embedding)     (None, 1, 100)       4698800     movie[0][0]                      \n",
            "__________________________________________________________________________________________________\n",
            "flatten_46 (Flatten)            (None, 100)          0           user_embedding[0][0]             \n",
            "__________________________________________________________________________________________________\n",
            "flatten_47 (Flatten)            (None, 100)          0           movie_embedding[0][0]            \n",
            "__________________________________________________________________________________________________\n",
            "concatenate_20 (Concatenate)    (None, 200)          0           flatten_46[0][0]                 \n",
            "                                                                 flatten_47[0][0]                 \n",
            "__________________________________________________________________________________________________\n",
            "dense_51 (Dense)                (None, 128)          25728       concatenate_20[0][0]             \n",
            "__________________________________________________________________________________________________\n",
            "dropout_22 (Dropout)            (None, 128)          0           dense_51[0][0]                   \n",
            "__________________________________________________________________________________________________\n",
            "multiply_15 (Multiply)          (None, 100)          0           flatten_46[0][0]                 \n",
            "                                                                 flatten_47[0][0]                 \n",
            "__________________________________________________________________________________________________\n",
            "dense_52 (Dense)                (None, 64)           8256        dropout_22[0][0]                 \n",
            "__________________________________________________________________________________________________\n",
            "concatenate_21 (Concatenate)    (None, 164)          0           multiply_15[0][0]                \n",
            "                                                                 dense_52[0][0]                   \n",
            "__________________________________________________________________________________________________\n",
            "dense_53 (Dense)                (None, 1)            165         concatenate_21[0][0]             \n",
            "==================================================================================================\n",
            "Total params: 6,190,649\n",
            "Trainable params: 6,190,649\n",
            "Non-trainable params: 0\n",
            "__________________________________________________________________________________________________\n",
            "None\n"
          ],
          "name": "stdout"
        },
        {
          "output_type": "execute_result",
          "data": {
            "text/plain": [
              "<IPython.core.display.SVG object>"
            ],
            "image/svg+xml": "<svg height=\"649pt\" viewBox=\"0.00 0.00 541.50 719.00\" width=\"489pt\" xmlns=\"http://www.w3.org/2000/svg\" xmlns:xlink=\"http://www.w3.org/1999/xlink\">\n<g class=\"graph\" id=\"graph0\" transform=\"scale(.9028 .9028) rotate(0) translate(4 715)\">\n<title>G</title>\n<polygon fill=\"#ffffff\" points=\"-4,4 -4,-715 537.5,-715 537.5,4 -4,4\" stroke=\"transparent\"/>\n<!-- 140074717523808 -->\n<g class=\"node\" id=\"node1\">\n<title>140074717523808</title>\n<polygon fill=\"none\" points=\"46,-664.5 46,-710.5 240,-710.5 240,-664.5 46,-664.5\" stroke=\"#000000\"/>\n<text fill=\"#000000\" font-family=\"Times,serif\" font-size=\"14.00\" text-anchor=\"middle\" x=\"86\" y=\"-683.8\">InputLayer</text>\n<polyline fill=\"none\" points=\"126,-664.5 126,-710.5 \" stroke=\"#000000\"/>\n<text fill=\"#000000\" font-family=\"Times,serif\" font-size=\"14.00\" text-anchor=\"middle\" x=\"155\" y=\"-695.3\">input:</text>\n<polyline fill=\"none\" points=\"126,-687.5 184,-687.5 \" stroke=\"#000000\"/>\n<text fill=\"#000000\" font-family=\"Times,serif\" font-size=\"14.00\" text-anchor=\"middle\" x=\"155\" y=\"-672.3\">output:</text>\n<polyline fill=\"none\" points=\"184,-664.5 184,-710.5 \" stroke=\"#000000\"/>\n<text fill=\"#000000\" font-family=\"Times,serif\" font-size=\"14.00\" text-anchor=\"middle\" x=\"212\" y=\"-695.3\">[(?, 1)]</text>\n<polyline fill=\"none\" points=\"184,-687.5 240,-687.5 \" stroke=\"#000000\"/>\n<text fill=\"#000000\" font-family=\"Times,serif\" font-size=\"14.00\" text-anchor=\"middle\" x=\"212\" y=\"-672.3\">[(?, 1)]</text>\n</g>\n<!-- 140074717523752 -->\n<g class=\"node\" id=\"node3\">\n<title>140074717523752</title>\n<polygon fill=\"none\" points=\"33.5,-581.5 33.5,-627.5 252.5,-627.5 252.5,-581.5 33.5,-581.5\" stroke=\"#000000\"/>\n<text fill=\"#000000\" font-family=\"Times,serif\" font-size=\"14.00\" text-anchor=\"middle\" x=\"75.5\" y=\"-600.8\">Embedding</text>\n<polyline fill=\"none\" points=\"117.5,-581.5 117.5,-627.5 \" stroke=\"#000000\"/>\n<text fill=\"#000000\" font-family=\"Times,serif\" font-size=\"14.00\" text-anchor=\"middle\" x=\"146.5\" y=\"-612.3\">input:</text>\n<polyline fill=\"none\" points=\"117.5,-604.5 175.5,-604.5 \" stroke=\"#000000\"/>\n<text fill=\"#000000\" font-family=\"Times,serif\" font-size=\"14.00\" text-anchor=\"middle\" x=\"146.5\" y=\"-589.3\">output:</text>\n<polyline fill=\"none\" points=\"175.5,-581.5 175.5,-627.5 \" stroke=\"#000000\"/>\n<text fill=\"#000000\" font-family=\"Times,serif\" font-size=\"14.00\" text-anchor=\"middle\" x=\"214\" y=\"-612.3\">(?, 1)</text>\n<polyline fill=\"none\" points=\"175.5,-604.5 252.5,-604.5 \" stroke=\"#000000\"/>\n<text fill=\"#000000\" font-family=\"Times,serif\" font-size=\"14.00\" text-anchor=\"middle\" x=\"214\" y=\"-589.3\">(?, 1, 100)</text>\n</g>\n<!-- 140074717523808&#45;&gt;140074717523752 -->\n<g class=\"edge\" id=\"edge1\">\n<title>140074717523808-&gt;140074717523752</title>\n<path d=\"M143,-664.3799C143,-656.1745 143,-646.7679 143,-637.8786\" fill=\"none\" stroke=\"#000000\"/>\n<polygon fill=\"#000000\" points=\"146.5001,-637.784 143,-627.784 139.5001,-637.784 146.5001,-637.784\" stroke=\"#000000\"/>\n</g>\n<!-- 140074717522464 -->\n<g class=\"node\" id=\"node2\">\n<title>140074717522464</title>\n<polygon fill=\"none\" points=\"293,-664.5 293,-710.5 487,-710.5 487,-664.5 293,-664.5\" stroke=\"#000000\"/>\n<text fill=\"#000000\" font-family=\"Times,serif\" font-size=\"14.00\" text-anchor=\"middle\" x=\"333\" y=\"-683.8\">InputLayer</text>\n<polyline fill=\"none\" points=\"373,-664.5 373,-710.5 \" stroke=\"#000000\"/>\n<text fill=\"#000000\" font-family=\"Times,serif\" font-size=\"14.00\" text-anchor=\"middle\" x=\"402\" y=\"-695.3\">input:</text>\n<polyline fill=\"none\" points=\"373,-687.5 431,-687.5 \" stroke=\"#000000\"/>\n<text fill=\"#000000\" font-family=\"Times,serif\" font-size=\"14.00\" text-anchor=\"middle\" x=\"402\" y=\"-672.3\">output:</text>\n<polyline fill=\"none\" points=\"431,-664.5 431,-710.5 \" stroke=\"#000000\"/>\n<text fill=\"#000000\" font-family=\"Times,serif\" font-size=\"14.00\" text-anchor=\"middle\" x=\"459\" y=\"-695.3\">[(?, 1)]</text>\n<polyline fill=\"none\" points=\"431,-687.5 487,-687.5 \" stroke=\"#000000\"/>\n<text fill=\"#000000\" font-family=\"Times,serif\" font-size=\"14.00\" text-anchor=\"middle\" x=\"459\" y=\"-672.3\">[(?, 1)]</text>\n</g>\n<!-- 140074742458352 -->\n<g class=\"node\" id=\"node4\">\n<title>140074742458352</title>\n<polygon fill=\"none\" points=\"280.5,-581.5 280.5,-627.5 499.5,-627.5 499.5,-581.5 280.5,-581.5\" stroke=\"#000000\"/>\n<text fill=\"#000000\" font-family=\"Times,serif\" font-size=\"14.00\" text-anchor=\"middle\" x=\"322.5\" y=\"-600.8\">Embedding</text>\n<polyline fill=\"none\" points=\"364.5,-581.5 364.5,-627.5 \" stroke=\"#000000\"/>\n<text fill=\"#000000\" font-family=\"Times,serif\" font-size=\"14.00\" text-anchor=\"middle\" x=\"393.5\" y=\"-612.3\">input:</text>\n<polyline fill=\"none\" points=\"364.5,-604.5 422.5,-604.5 \" stroke=\"#000000\"/>\n<text fill=\"#000000\" font-family=\"Times,serif\" font-size=\"14.00\" text-anchor=\"middle\" x=\"393.5\" y=\"-589.3\">output:</text>\n<polyline fill=\"none\" points=\"422.5,-581.5 422.5,-627.5 \" stroke=\"#000000\"/>\n<text fill=\"#000000\" font-family=\"Times,serif\" font-size=\"14.00\" text-anchor=\"middle\" x=\"461\" y=\"-612.3\">(?, 1)</text>\n<polyline fill=\"none\" points=\"422.5,-604.5 499.5,-604.5 \" stroke=\"#000000\"/>\n<text fill=\"#000000\" font-family=\"Times,serif\" font-size=\"14.00\" text-anchor=\"middle\" x=\"461\" y=\"-589.3\">(?, 1, 100)</text>\n</g>\n<!-- 140074717522464&#45;&gt;140074742458352 -->\n<g class=\"edge\" id=\"edge2\">\n<title>140074717522464-&gt;140074742458352</title>\n<path d=\"M390,-664.3799C390,-656.1745 390,-646.7679 390,-637.8786\" fill=\"none\" stroke=\"#000000\"/>\n<polygon fill=\"#000000\" points=\"393.5001,-637.784 390,-627.784 386.5001,-637.784 393.5001,-637.784\" stroke=\"#000000\"/>\n</g>\n<!-- 140074717523584 -->\n<g class=\"node\" id=\"node5\">\n<title>140074717523584</title>\n<polygon fill=\"none\" points=\"47.5,-498.5 47.5,-544.5 238.5,-544.5 238.5,-498.5 47.5,-498.5\" stroke=\"#000000\"/>\n<text fill=\"#000000\" font-family=\"Times,serif\" font-size=\"14.00\" text-anchor=\"middle\" x=\"75.5\" y=\"-517.8\">Flatten</text>\n<polyline fill=\"none\" points=\"103.5,-498.5 103.5,-544.5 \" stroke=\"#000000\"/>\n<text fill=\"#000000\" font-family=\"Times,serif\" font-size=\"14.00\" text-anchor=\"middle\" x=\"132.5\" y=\"-529.3\">input:</text>\n<polyline fill=\"none\" points=\"103.5,-521.5 161.5,-521.5 \" stroke=\"#000000\"/>\n<text fill=\"#000000\" font-family=\"Times,serif\" font-size=\"14.00\" text-anchor=\"middle\" x=\"132.5\" y=\"-506.3\">output:</text>\n<polyline fill=\"none\" points=\"161.5,-498.5 161.5,-544.5 \" stroke=\"#000000\"/>\n<text fill=\"#000000\" font-family=\"Times,serif\" font-size=\"14.00\" text-anchor=\"middle\" x=\"200\" y=\"-529.3\">(?, 1, 100)</text>\n<polyline fill=\"none\" points=\"161.5,-521.5 238.5,-521.5 \" stroke=\"#000000\"/>\n<text fill=\"#000000\" font-family=\"Times,serif\" font-size=\"14.00\" text-anchor=\"middle\" x=\"200\" y=\"-506.3\">(?, 100)</text>\n</g>\n<!-- 140074717523752&#45;&gt;140074717523584 -->\n<g class=\"edge\" id=\"edge3\">\n<title>140074717523752-&gt;140074717523584</title>\n<path d=\"M143,-581.3799C143,-573.1745 143,-563.7679 143,-554.8786\" fill=\"none\" stroke=\"#000000\"/>\n<polygon fill=\"#000000\" points=\"146.5001,-554.784 143,-544.784 139.5001,-554.784 146.5001,-554.784\" stroke=\"#000000\"/>\n</g>\n<!-- 140073742357056 -->\n<g class=\"node\" id=\"node6\">\n<title>140073742357056</title>\n<polygon fill=\"none\" points=\"294.5,-498.5 294.5,-544.5 485.5,-544.5 485.5,-498.5 294.5,-498.5\" stroke=\"#000000\"/>\n<text fill=\"#000000\" font-family=\"Times,serif\" font-size=\"14.00\" text-anchor=\"middle\" x=\"322.5\" y=\"-517.8\">Flatten</text>\n<polyline fill=\"none\" points=\"350.5,-498.5 350.5,-544.5 \" stroke=\"#000000\"/>\n<text fill=\"#000000\" font-family=\"Times,serif\" font-size=\"14.00\" text-anchor=\"middle\" x=\"379.5\" y=\"-529.3\">input:</text>\n<polyline fill=\"none\" points=\"350.5,-521.5 408.5,-521.5 \" stroke=\"#000000\"/>\n<text fill=\"#000000\" font-family=\"Times,serif\" font-size=\"14.00\" text-anchor=\"middle\" x=\"379.5\" y=\"-506.3\">output:</text>\n<polyline fill=\"none\" points=\"408.5,-498.5 408.5,-544.5 \" stroke=\"#000000\"/>\n<text fill=\"#000000\" font-family=\"Times,serif\" font-size=\"14.00\" text-anchor=\"middle\" x=\"447\" y=\"-529.3\">(?, 1, 100)</text>\n<polyline fill=\"none\" points=\"408.5,-521.5 485.5,-521.5 \" stroke=\"#000000\"/>\n<text fill=\"#000000\" font-family=\"Times,serif\" font-size=\"14.00\" text-anchor=\"middle\" x=\"447\" y=\"-506.3\">(?, 100)</text>\n</g>\n<!-- 140074742458352&#45;&gt;140073742357056 -->\n<g class=\"edge\" id=\"edge4\">\n<title>140074742458352-&gt;140073742357056</title>\n<path d=\"M390,-581.3799C390,-573.1745 390,-563.7679 390,-554.8786\" fill=\"none\" stroke=\"#000000\"/>\n<polygon fill=\"#000000\" points=\"393.5001,-554.784 390,-544.784 386.5001,-554.784 393.5001,-554.784\" stroke=\"#000000\"/>\n</g>\n<!-- 140073780495752 -->\n<g class=\"node\" id=\"node7\">\n<title>140073780495752</title>\n<polygon fill=\"none\" points=\"266.5,-415.5 266.5,-461.5 533.5,-461.5 533.5,-415.5 266.5,-415.5\" stroke=\"#000000\"/>\n<text fill=\"#000000\" font-family=\"Times,serif\" font-size=\"14.00\" text-anchor=\"middle\" x=\"309.5\" y=\"-434.8\">Concatenate</text>\n<polyline fill=\"none\" points=\"352.5,-415.5 352.5,-461.5 \" stroke=\"#000000\"/>\n<text fill=\"#000000\" font-family=\"Times,serif\" font-size=\"14.00\" text-anchor=\"middle\" x=\"381.5\" y=\"-446.3\">input:</text>\n<polyline fill=\"none\" points=\"352.5,-438.5 410.5,-438.5 \" stroke=\"#000000\"/>\n<text fill=\"#000000\" font-family=\"Times,serif\" font-size=\"14.00\" text-anchor=\"middle\" x=\"381.5\" y=\"-423.3\">output:</text>\n<polyline fill=\"none\" points=\"410.5,-415.5 410.5,-461.5 \" stroke=\"#000000\"/>\n<text fill=\"#000000\" font-family=\"Times,serif\" font-size=\"14.00\" text-anchor=\"middle\" x=\"472\" y=\"-446.3\">[(?, 100), (?, 100)]</text>\n<polyline fill=\"none\" points=\"410.5,-438.5 533.5,-438.5 \" stroke=\"#000000\"/>\n<text fill=\"#000000\" font-family=\"Times,serif\" font-size=\"14.00\" text-anchor=\"middle\" x=\"472\" y=\"-423.3\">(?, 200)</text>\n</g>\n<!-- 140074717523584&#45;&gt;140073780495752 -->\n<g class=\"edge\" id=\"edge5\">\n<title>140074717523584-&gt;140073780495752</title>\n<path d=\"M214.2475,-498.4901C246.6965,-488.0105 285.268,-475.5535 318.8316,-464.7139\" fill=\"none\" stroke=\"#000000\"/>\n<polygon fill=\"#000000\" points=\"320.1735,-467.9586 328.6139,-461.5547 318.0222,-461.2974 320.1735,-467.9586\" stroke=\"#000000\"/>\n</g>\n<!-- 140074736340552 -->\n<g class=\"node\" id=\"node10\">\n<title>140074736340552</title>\n<polygon fill=\"none\" points=\"0,-415.5 0,-461.5 248,-461.5 248,-415.5 0,-415.5\" stroke=\"#000000\"/>\n<text fill=\"#000000\" font-family=\"Times,serif\" font-size=\"14.00\" text-anchor=\"middle\" x=\"33.5\" y=\"-434.8\">Multiply</text>\n<polyline fill=\"none\" points=\"67,-415.5 67,-461.5 \" stroke=\"#000000\"/>\n<text fill=\"#000000\" font-family=\"Times,serif\" font-size=\"14.00\" text-anchor=\"middle\" x=\"96\" y=\"-446.3\">input:</text>\n<polyline fill=\"none\" points=\"67,-438.5 125,-438.5 \" stroke=\"#000000\"/>\n<text fill=\"#000000\" font-family=\"Times,serif\" font-size=\"14.00\" text-anchor=\"middle\" x=\"96\" y=\"-423.3\">output:</text>\n<polyline fill=\"none\" points=\"125,-415.5 125,-461.5 \" stroke=\"#000000\"/>\n<text fill=\"#000000\" font-family=\"Times,serif\" font-size=\"14.00\" text-anchor=\"middle\" x=\"186.5\" y=\"-446.3\">[(?, 100), (?, 100)]</text>\n<polyline fill=\"none\" points=\"125,-438.5 248,-438.5 \" stroke=\"#000000\"/>\n<text fill=\"#000000\" font-family=\"Times,serif\" font-size=\"14.00\" text-anchor=\"middle\" x=\"186.5\" y=\"-423.3\">(?, 100)</text>\n</g>\n<!-- 140074717523584&#45;&gt;140074736340552 -->\n<g class=\"edge\" id=\"edge9\">\n<title>140074717523584-&gt;140074736340552</title>\n<path d=\"M137.7074,-498.3799C135.8087,-490.0854 133.6289,-480.5633 131.5746,-471.5889\" fill=\"none\" stroke=\"#000000\"/>\n<polygon fill=\"#000000\" points=\"134.9733,-470.7508 129.3301,-461.784 128.1498,-472.3129 134.9733,-470.7508\" stroke=\"#000000\"/>\n</g>\n<!-- 140073742357056&#45;&gt;140073780495752 -->\n<g class=\"edge\" id=\"edge6\">\n<title>140073742357056-&gt;140073780495752</title>\n<path d=\"M392.7856,-498.3799C393.7742,-490.1745 394.9075,-480.7679 395.9785,-471.8786\" fill=\"none\" stroke=\"#000000\"/>\n<polygon fill=\"#000000\" points=\"399.4733,-472.1309 397.1947,-461.784 392.5236,-471.2935 399.4733,-472.1309\" stroke=\"#000000\"/>\n</g>\n<!-- 140073742357056&#45;&gt;140074736340552 -->\n<g class=\"edge\" id=\"edge10\">\n<title>140073742357056-&gt;140074736340552</title>\n<path d=\"M316.2574,-498.4901C282.5279,-487.9655 242.407,-475.4466 207.5639,-464.5745\" fill=\"none\" stroke=\"#000000\"/>\n<polygon fill=\"#000000\" points=\"208.4747,-461.1923 197.886,-461.5547 206.3896,-467.8745 208.4747,-461.1923\" stroke=\"#000000\"/>\n</g>\n<!-- 140074733938616 -->\n<g class=\"node\" id=\"node8\">\n<title>140074733938616</title>\n<polygon fill=\"none\" points=\"294,-332.5 294,-378.5 466,-378.5 466,-332.5 294,-332.5\" stroke=\"#000000\"/>\n<text fill=\"#000000\" font-family=\"Times,serif\" font-size=\"14.00\" text-anchor=\"middle\" x=\"320\" y=\"-351.8\">Dense</text>\n<polyline fill=\"none\" points=\"346,-332.5 346,-378.5 \" stroke=\"#000000\"/>\n<text fill=\"#000000\" font-family=\"Times,serif\" font-size=\"14.00\" text-anchor=\"middle\" x=\"375\" y=\"-363.3\">input:</text>\n<polyline fill=\"none\" points=\"346,-355.5 404,-355.5 \" stroke=\"#000000\"/>\n<text fill=\"#000000\" font-family=\"Times,serif\" font-size=\"14.00\" text-anchor=\"middle\" x=\"375\" y=\"-340.3\">output:</text>\n<polyline fill=\"none\" points=\"404,-332.5 404,-378.5 \" stroke=\"#000000\"/>\n<text fill=\"#000000\" font-family=\"Times,serif\" font-size=\"14.00\" text-anchor=\"middle\" x=\"435\" y=\"-363.3\">(?, 200)</text>\n<polyline fill=\"none\" points=\"404,-355.5 466,-355.5 \" stroke=\"#000000\"/>\n<text fill=\"#000000\" font-family=\"Times,serif\" font-size=\"14.00\" text-anchor=\"middle\" x=\"435\" y=\"-340.3\">(?, 128)</text>\n</g>\n<!-- 140073780495752&#45;&gt;140074733938616 -->\n<g class=\"edge\" id=\"edge7\">\n<title>140073780495752-&gt;140074733938616</title>\n<path d=\"M394.4289,-415.3799C392.4302,-407.0854 390.1357,-397.5633 387.9732,-388.5889\" fill=\"none\" stroke=\"#000000\"/>\n<polygon fill=\"#000000\" points=\"391.3559,-387.6858 385.6106,-378.784 384.5507,-389.3257 391.3559,-387.6858\" stroke=\"#000000\"/>\n</g>\n<!-- 140074733939456 -->\n<g class=\"node\" id=\"node9\">\n<title>140074733939456</title>\n<polygon fill=\"none\" points=\"268.5,-249.5 268.5,-295.5 453.5,-295.5 453.5,-249.5 268.5,-249.5\" stroke=\"#000000\"/>\n<text fill=\"#000000\" font-family=\"Times,serif\" font-size=\"14.00\" text-anchor=\"middle\" x=\"301\" y=\"-268.8\">Dropout</text>\n<polyline fill=\"none\" points=\"333.5,-249.5 333.5,-295.5 \" stroke=\"#000000\"/>\n<text fill=\"#000000\" font-family=\"Times,serif\" font-size=\"14.00\" text-anchor=\"middle\" x=\"362.5\" y=\"-280.3\">input:</text>\n<polyline fill=\"none\" points=\"333.5,-272.5 391.5,-272.5 \" stroke=\"#000000\"/>\n<text fill=\"#000000\" font-family=\"Times,serif\" font-size=\"14.00\" text-anchor=\"middle\" x=\"362.5\" y=\"-257.3\">output:</text>\n<polyline fill=\"none\" points=\"391.5,-249.5 391.5,-295.5 \" stroke=\"#000000\"/>\n<text fill=\"#000000\" font-family=\"Times,serif\" font-size=\"14.00\" text-anchor=\"middle\" x=\"422.5\" y=\"-280.3\">(?, 128)</text>\n<polyline fill=\"none\" points=\"391.5,-272.5 453.5,-272.5 \" stroke=\"#000000\"/>\n<text fill=\"#000000\" font-family=\"Times,serif\" font-size=\"14.00\" text-anchor=\"middle\" x=\"422.5\" y=\"-257.3\">(?, 128)</text>\n</g>\n<!-- 140074733938616&#45;&gt;140074733939456 -->\n<g class=\"edge\" id=\"edge8\">\n<title>140074733938616-&gt;140074733939456</title>\n<path d=\"M374.7074,-332.3799C372.8087,-324.0854 370.6289,-314.5633 368.5746,-305.5889\" fill=\"none\" stroke=\"#000000\"/>\n<polygon fill=\"#000000\" points=\"371.9733,-304.7508 366.3301,-295.784 365.1498,-306.3129 371.9733,-304.7508\" stroke=\"#000000\"/>\n</g>\n<!-- 140074733940296 -->\n<g class=\"node\" id=\"node11\">\n<title>140074733940296</title>\n<polygon fill=\"none\" points=\"233,-166.5 233,-212.5 405,-212.5 405,-166.5 233,-166.5\" stroke=\"#000000\"/>\n<text fill=\"#000000\" font-family=\"Times,serif\" font-size=\"14.00\" text-anchor=\"middle\" x=\"259\" y=\"-185.8\">Dense</text>\n<polyline fill=\"none\" points=\"285,-166.5 285,-212.5 \" stroke=\"#000000\"/>\n<text fill=\"#000000\" font-family=\"Times,serif\" font-size=\"14.00\" text-anchor=\"middle\" x=\"314\" y=\"-197.3\">input:</text>\n<polyline fill=\"none\" points=\"285,-189.5 343,-189.5 \" stroke=\"#000000\"/>\n<text fill=\"#000000\" font-family=\"Times,serif\" font-size=\"14.00\" text-anchor=\"middle\" x=\"314\" y=\"-174.3\">output:</text>\n<polyline fill=\"none\" points=\"343,-166.5 343,-212.5 \" stroke=\"#000000\"/>\n<text fill=\"#000000\" font-family=\"Times,serif\" font-size=\"14.00\" text-anchor=\"middle\" x=\"374\" y=\"-197.3\">(?, 128)</text>\n<polyline fill=\"none\" points=\"343,-189.5 405,-189.5 \" stroke=\"#000000\"/>\n<text fill=\"#000000\" font-family=\"Times,serif\" font-size=\"14.00\" text-anchor=\"middle\" x=\"374\" y=\"-174.3\">(?, 64)</text>\n</g>\n<!-- 140074733939456&#45;&gt;140074733940296 -->\n<g class=\"edge\" id=\"edge11\">\n<title>140074733939456-&gt;140074733940296</title>\n<path d=\"M349.3007,-249.3799C344.968,-240.8178 339.9735,-230.9477 335.3052,-221.7222\" fill=\"none\" stroke=\"#000000\"/>\n<polygon fill=\"#000000\" points=\"338.4203,-220.1264 330.7823,-212.784 332.1745,-223.287 338.4203,-220.1264\" stroke=\"#000000\"/>\n</g>\n<!-- 140074733767648 -->\n<g class=\"node\" id=\"node12\">\n<title>140074733767648</title>\n<polygon fill=\"none\" points=\"129,-83.5 129,-129.5 389,-129.5 389,-83.5 129,-83.5\" stroke=\"#000000\"/>\n<text fill=\"#000000\" font-family=\"Times,serif\" font-size=\"14.00\" text-anchor=\"middle\" x=\"172\" y=\"-102.8\">Concatenate</text>\n<polyline fill=\"none\" points=\"215,-83.5 215,-129.5 \" stroke=\"#000000\"/>\n<text fill=\"#000000\" font-family=\"Times,serif\" font-size=\"14.00\" text-anchor=\"middle\" x=\"244\" y=\"-114.3\">input:</text>\n<polyline fill=\"none\" points=\"215,-106.5 273,-106.5 \" stroke=\"#000000\"/>\n<text fill=\"#000000\" font-family=\"Times,serif\" font-size=\"14.00\" text-anchor=\"middle\" x=\"244\" y=\"-91.3\">output:</text>\n<polyline fill=\"none\" points=\"273,-83.5 273,-129.5 \" stroke=\"#000000\"/>\n<text fill=\"#000000\" font-family=\"Times,serif\" font-size=\"14.00\" text-anchor=\"middle\" x=\"331\" y=\"-114.3\">[(?, 100), (?, 64)]</text>\n<polyline fill=\"none\" points=\"273,-106.5 389,-106.5 \" stroke=\"#000000\"/>\n<text fill=\"#000000\" font-family=\"Times,serif\" font-size=\"14.00\" text-anchor=\"middle\" x=\"331\" y=\"-91.3\">(?, 164)</text>\n</g>\n<!-- 140074736340552&#45;&gt;140074733767648 -->\n<g class=\"edge\" id=\"edge12\">\n<title>140074736340552-&gt;140074733767648</title>\n<path d=\"M130.9462,-415.3249C145.5891,-367.59 181.7755,-255.2918 224,-166 228.3348,-156.8332 233.6274,-147.2264 238.7713,-138.4717\" fill=\"none\" stroke=\"#000000\"/>\n<polygon fill=\"#000000\" points=\"241.8844,-140.086 244.0314,-129.711 235.8831,-136.4826 241.8844,-140.086\" stroke=\"#000000\"/>\n</g>\n<!-- 140074733940296&#45;&gt;140074733767648 -->\n<g class=\"edge\" id=\"edge13\">\n<title>140074733940296-&gt;140074733767648</title>\n<path d=\"M302.2867,-166.3799C295.9683,-157.6394 288.6645,-147.5358 281.877,-138.1465\" fill=\"none\" stroke=\"#000000\"/>\n<polygon fill=\"#000000\" points=\"284.5268,-135.8378 275.8318,-129.784 278.8538,-139.9387 284.5268,-135.8378\" stroke=\"#000000\"/>\n</g>\n<!-- 140074733768264 -->\n<g class=\"node\" id=\"node13\">\n<title>140074733768264</title>\n<polygon fill=\"none\" points=\"173,-.5 173,-46.5 345,-46.5 345,-.5 173,-.5\" stroke=\"#000000\"/>\n<text fill=\"#000000\" font-family=\"Times,serif\" font-size=\"14.00\" text-anchor=\"middle\" x=\"199\" y=\"-19.8\">Dense</text>\n<polyline fill=\"none\" points=\"225,-.5 225,-46.5 \" stroke=\"#000000\"/>\n<text fill=\"#000000\" font-family=\"Times,serif\" font-size=\"14.00\" text-anchor=\"middle\" x=\"254\" y=\"-31.3\">input:</text>\n<polyline fill=\"none\" points=\"225,-23.5 283,-23.5 \" stroke=\"#000000\"/>\n<text fill=\"#000000\" font-family=\"Times,serif\" font-size=\"14.00\" text-anchor=\"middle\" x=\"254\" y=\"-8.3\">output:</text>\n<polyline fill=\"none\" points=\"283,-.5 283,-46.5 \" stroke=\"#000000\"/>\n<text fill=\"#000000\" font-family=\"Times,serif\" font-size=\"14.00\" text-anchor=\"middle\" x=\"314\" y=\"-31.3\">(?, 164)</text>\n<polyline fill=\"none\" points=\"283,-23.5 345,-23.5 \" stroke=\"#000000\"/>\n<text fill=\"#000000\" font-family=\"Times,serif\" font-size=\"14.00\" text-anchor=\"middle\" x=\"314\" y=\"-8.3\">(?, 1)</text>\n</g>\n<!-- 140074733767648&#45;&gt;140074733768264 -->\n<g class=\"edge\" id=\"edge14\">\n<title>140074733767648-&gt;140074733768264</title>\n<path d=\"M259,-83.3799C259,-75.1745 259,-65.7679 259,-56.8786\" fill=\"none\" stroke=\"#000000\"/>\n<polygon fill=\"#000000\" points=\"262.5001,-56.784 259,-46.784 255.5001,-56.784 262.5001,-56.784\" stroke=\"#000000\"/>\n</g>\n</g>\n</svg>"
          },
          "metadata": {
            "tags": []
          },
          "execution_count": 146
        }
      ]
    },
    {
      "cell_type": "code",
      "metadata": {
        "colab": {
          "base_uri": "https://localhost:8080/"
        },
        "id": "OlEZjszmM4Ii",
        "outputId": "3f0d9eb6-a45a-4c43-b726-22c0d483a644"
      },
      "source": [
        "my_callbacks = [tf.keras.callbacks.EarlyStopping(patience=3, monitor = 'val_loss'),]\r\n",
        "\r\n",
        "\r\n",
        "algorithm = 'NeuralCF'\r\n",
        "print(algorithm)\r\n",
        "result = {'training':{'MSE':[],'r2':[],'time':[]},'testing':{'MSE':[],'r2':[],'time':[]}}\r\n",
        "for index in range(data_set_len):\r\n",
        "  #training\r\n",
        "  start = time.time()\r\n",
        "\r\n",
        "  x = traing_data['x'][index]\r\n",
        "  y = traing_data['y'][index]\r\n",
        "  model.fit(x,y,epochs=100,batch_size=2048,validation_split = 0.1,callbacks=my_callbacks)\r\n",
        "  training_pred = model.predict(x)\r\n",
        "  result['training']['MSE'].append(round(mean_squared_error(y, training_pred),4))\r\n",
        "  result['training']['r2'].append(round(r2_score(y, training_pred),4))\r\n",
        "  result['training']['time'].append(round((time.time() - start),1))\r\n",
        "  \r\n",
        "  #testing  \r\n",
        "  start = time.time()\r\n",
        "  x = testing_data['x'][index]\r\n",
        "  y = testing_data['y'][index]\r\n",
        "  testing_pred = model.predict(x)\r\n",
        "  result['testing']['MSE'].append(round(mean_squared_error(y, testing_pred),4))\r\n",
        "  result['testing']['r2'].append(round(r2_score(y, testing_pred),4))\r\n",
        "  result['testing']['time'].append(round((time.time() - start),1))\r\n",
        "\r\n",
        "  for data_index in range(5):\r\n",
        "    print(index,data_index,testing_pred[data_index],y.iloc[data_index])\r\n",
        "\r\n",
        "  '''\r\n",
        "  for data in result:\r\n",
        "    print(index,data)\r\n",
        "    for measure in result[data]:\r\n",
        "      print(measure,result[data][measure][index])\r\n",
        "  '''\r\n",
        "\r\n",
        "Total_result.update({algorithm:{}})\r\n",
        "for data in result:\r\n",
        "  Total_result[algorithm].update({data:{}})\r\n",
        "  print(data,\":\")\r\n",
        "  for measure in result[data]:\r\n",
        "    avg = Ave(result[data][measure])\r\n",
        "    Total_result[algorithm][data].update({measure:avg})\r\n",
        "    print(measure,avg)\r\n"
      ],
      "execution_count": 147,
      "outputs": [
        {
          "output_type": "stream",
          "text": [
            "NeuralCF\n",
            "Epoch 1/100\n",
            "671/671 [==============================] - 37s 55ms/step - loss: 0.9330 - mean_squared_error: 0.9330 - val_loss: 0.6820 - val_mean_squared_error: 0.6820\n",
            "Epoch 2/100\n",
            "671/671 [==============================] - 34s 51ms/step - loss: 0.6566 - mean_squared_error: 0.6566 - val_loss: 0.6806 - val_mean_squared_error: 0.6806\n",
            "Epoch 3/100\n",
            "671/671 [==============================] - 35s 52ms/step - loss: 0.5556 - mean_squared_error: 0.5556 - val_loss: 0.6982 - val_mean_squared_error: 0.6982\n",
            "Epoch 4/100\n",
            "671/671 [==============================] - 35s 52ms/step - loss: 0.4247 - mean_squared_error: 0.4247 - val_loss: 0.6730 - val_mean_squared_error: 0.6730\n",
            "Epoch 5/100\n",
            "671/671 [==============================] - 35s 52ms/step - loss: 0.3289 - mean_squared_error: 0.3289 - val_loss: 0.6932 - val_mean_squared_error: 0.6932\n",
            "Epoch 6/100\n",
            "671/671 [==============================] - 35s 51ms/step - loss: 0.2675 - mean_squared_error: 0.2675 - val_loss: 0.7520 - val_mean_squared_error: 0.7520\n",
            "Epoch 7/100\n",
            "671/671 [==============================] - 35s 52ms/step - loss: 0.2272 - mean_squared_error: 0.2272 - val_loss: 0.7242 - val_mean_squared_error: 0.7242\n",
            "0 0 [3.7217662] 4.0\n",
            "0 1 [3.7361495] 4.0\n",
            "0 2 [3.8106954] 3.5\n",
            "0 3 [2.5752778] 4.0\n",
            "0 4 [4.6231613] 5.0\n",
            "training :\n",
            "MSE 0.2256\n",
            "r2 0.8002\n",
            "time 278.3\n",
            "testing :\n",
            "MSE 0.7281\n",
            "r2 0.3568\n",
            "time 7.9\n"
          ],
          "name": "stdout"
        }
      ]
    },
    {
      "cell_type": "markdown",
      "metadata": {
        "id": "juN-3IisVSmF"
      },
      "source": [
        "#Result"
      ]
    },
    {
      "cell_type": "code",
      "metadata": {
        "colab": {
          "base_uri": "https://localhost:8080/",
          "height": 286
        },
        "id": "YAzhjOLfVUcL",
        "outputId": "5e2ac22d-22c7-49d9-fa89-efbd0cbf8898"
      },
      "source": [
        "rows_list = []\r\n",
        "for algorithm in Total_result:\r\n",
        "  for state in Total_result[algorithm]:\r\n",
        "    rows_list.append([algorithm,state,Total_result[algorithm][state]['MSE'],Total_result[algorithm][state]['r2'],Total_result[algorithm][state]['time']]) \r\n",
        "result_df = pd.DataFrame(rows_list,columns =['algorithm', 'state','MSE','r2','time']) \r\n",
        "result_df"
      ],
      "execution_count": 148,
      "outputs": [
        {
          "output_type": "execute_result",
          "data": {
            "text/html": [
              "<div>\n",
              "<style scoped>\n",
              "    .dataframe tbody tr th:only-of-type {\n",
              "        vertical-align: middle;\n",
              "    }\n",
              "\n",
              "    .dataframe tbody tr th {\n",
              "        vertical-align: top;\n",
              "    }\n",
              "\n",
              "    .dataframe thead th {\n",
              "        text-align: right;\n",
              "    }\n",
              "</style>\n",
              "<table border=\"1\" class=\"dataframe\">\n",
              "  <thead>\n",
              "    <tr style=\"text-align: right;\">\n",
              "      <th></th>\n",
              "      <th>algorithm</th>\n",
              "      <th>state</th>\n",
              "      <th>MSE</th>\n",
              "      <th>r2</th>\n",
              "      <th>time</th>\n",
              "    </tr>\n",
              "  </thead>\n",
              "  <tbody>\n",
              "    <tr>\n",
              "      <th>0</th>\n",
              "      <td>Non-negative Matrix Factorization</td>\n",
              "      <td>training</td>\n",
              "      <td>6.9024</td>\n",
              "      <td>-5.1122</td>\n",
              "      <td>537.5</td>\n",
              "    </tr>\n",
              "    <tr>\n",
              "      <th>1</th>\n",
              "      <td>Non-negative Matrix Factorization</td>\n",
              "      <td>testing</td>\n",
              "      <td>9.1619</td>\n",
              "      <td>-7.0937</td>\n",
              "      <td>44.8</td>\n",
              "    </tr>\n",
              "    <tr>\n",
              "      <th>2</th>\n",
              "      <td>Matrix Factorization</td>\n",
              "      <td>training</td>\n",
              "      <td>0.2442</td>\n",
              "      <td>0.7837</td>\n",
              "      <td>150.1</td>\n",
              "    </tr>\n",
              "    <tr>\n",
              "      <th>3</th>\n",
              "      <td>Matrix Factorization</td>\n",
              "      <td>testing</td>\n",
              "      <td>0.7675</td>\n",
              "      <td>0.3220</td>\n",
              "      <td>6.5</td>\n",
              "    </tr>\n",
              "    <tr>\n",
              "      <th>4</th>\n",
              "      <td>Multilayer perceptron</td>\n",
              "      <td>training</td>\n",
              "      <td>0.3708</td>\n",
              "      <td>0.6717</td>\n",
              "      <td>524.1</td>\n",
              "    </tr>\n",
              "    <tr>\n",
              "      <th>5</th>\n",
              "      <td>Multilayer perceptron</td>\n",
              "      <td>testing</td>\n",
              "      <td>0.6264</td>\n",
              "      <td>0.4466</td>\n",
              "      <td>7.8</td>\n",
              "    </tr>\n",
              "    <tr>\n",
              "      <th>6</th>\n",
              "      <td>NeuralCF</td>\n",
              "      <td>training</td>\n",
              "      <td>0.2256</td>\n",
              "      <td>0.8002</td>\n",
              "      <td>278.3</td>\n",
              "    </tr>\n",
              "    <tr>\n",
              "      <th>7</th>\n",
              "      <td>NeuralCF</td>\n",
              "      <td>testing</td>\n",
              "      <td>0.7281</td>\n",
              "      <td>0.3568</td>\n",
              "      <td>7.9</td>\n",
              "    </tr>\n",
              "  </tbody>\n",
              "</table>\n",
              "</div>"
            ],
            "text/plain": [
              "                           algorithm     state     MSE      r2   time\n",
              "0  Non-negative Matrix Factorization  training  6.9024 -5.1122  537.5\n",
              "1  Non-negative Matrix Factorization   testing  9.1619 -7.0937   44.8\n",
              "2               Matrix Factorization  training  0.2442  0.7837  150.1\n",
              "3               Matrix Factorization   testing  0.7675  0.3220    6.5\n",
              "4              Multilayer perceptron  training  0.3708  0.6717  524.1\n",
              "5              Multilayer perceptron   testing  0.6264  0.4466    7.8\n",
              "6                           NeuralCF  training  0.2256  0.8002  278.3\n",
              "7                           NeuralCF   testing  0.7281  0.3568    7.9"
            ]
          },
          "metadata": {
            "tags": []
          },
          "execution_count": 148
        }
      ]
    },
    {
      "cell_type": "code",
      "metadata": {
        "colab": {
          "base_uri": "https://localhost:8080/",
          "height": 332
        },
        "id": "XPvIj1ZYVXMT",
        "outputId": "f6caa20a-18b0-4eec-fbe9-4ee834dde93e"
      },
      "source": [
        "plt.style.use('ggplot')\r\n",
        "n = 4\r\n",
        "\r\n",
        "measure = 'MSE'\r\n",
        "train_result= tuple(result_df[result_df['state']=='training'][measure])\r\n",
        "test_result = tuple(result_df[result_df['state']=='testing'][measure])\r\n",
        "print(train_result)\r\n",
        "print(test_result)\r\n",
        "\r\n",
        "\r\n",
        "fig, ax = plt.subplots()\r\n",
        "index = np.arange(n)\r\n",
        "bar_width = 0.35\r\n",
        "opacity = 0.9\r\n",
        "ax.bar(index, train_result, bar_width, alpha=opacity, color='r',label='training')\r\n",
        "\r\n",
        "ax.bar(index+bar_width, test_result, bar_width, alpha=opacity, color='b',\r\n",
        "                label='testing')\r\n",
        "ax.set_ylim([0,1.5])\r\n",
        "ax.set_xlabel('algorithm')\r\n",
        "ax.set_ylabel(measure)\r\n",
        "ax.set_title('Airbnb-price-predict-20201009-LA')\r\n",
        "ax.set_xticks(index + bar_width / 2)\r\n",
        "ax.set_xticklabels(('NMF','MF','MLP','NeuralCF'))\r\n",
        "ax.axhline(y=0.0, color='black', linestyle='-', linewidth=2)\r\n",
        "ax.legend()\r\n",
        "plt.show()"
      ],
      "execution_count": 154,
      "outputs": [
        {
          "output_type": "stream",
          "text": [
            "(6.9024, 0.2442, 0.3708, 0.2256)\n",
            "(9.1619, 0.7675, 0.6264, 0.7281)\n"
          ],
          "name": "stdout"
        },
        {
          "output_type": "display_data",
          "data": {
            "image/png": "[encoded data removed]",
            "text/plain": [
              "<Figure size 432x288 with 1 Axes>"
            ]
          },
          "metadata": {
            "tags": []
          }
        }
      ]
    },
    {
      "cell_type": "markdown",
      "metadata": {
        "id": "ZlZqg1SNGzT_"
      },
      "source": [
        "##Reference\r\n",
        "\r\n",
        "1.<a href='https://grouplens.org/datasets/movielens/'>MovieLen</a>\r\n",
        "\r\n",
        "2.<a href='https://github.com/khuangaf/tibame_recommender_system/blob/master/NCF.ipynb'>tibame_recommender_system/NCF.ipynb</a>"
      ]
    },
    {
      "cell_type": "code",
      "metadata": {
        "id": "Jg7yf_GlWefs"
      },
      "source": [
        ""
      ],
      "execution_count": 135,
      "outputs": []
    }
  ]
}